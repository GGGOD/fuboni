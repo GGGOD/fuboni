{
 "cells": [
  {
   "cell_type": "code",
   "execution_count": 1,
   "metadata": {
    "collapsed": true
   },
   "outputs": [],
   "source": [
    "import requests\n",
    "res = requests.get('https://my83.com.tw/question')"
   ]
  },
  {
   "cell_type": "code",
   "execution_count": 4,
   "metadata": {
    "collapsed": false
   },
   "outputs": [],
   "source": [
    "from bs4 import BeautifulSoup\n",
    "soup = BeautifulSoup(res.text, 'lxml')"
   ]
  },
  {
   "cell_type": "code",
   "execution_count": 53,
   "metadata": {
    "collapsed": false
   },
   "outputs": [],
   "source": [
    "question_list = []\n",
    "domain = 'https://my83.com.tw'\n",
    "for section in soup.select('#questionList section'):\n",
    "    #print(section)\n",
    "    link = domain + section.select('a')[0]['href']\n",
    "    question_label, question = section.select('h3')[0].contents\n",
    "    tags = ','.join([tag.text for tag in section.select('.tag')])\n",
    "    dt, replies = section.select('.text-right .list-group-item-text')\n",
    "    userinfo    = section.select('.userInfo')[0].text.strip()\n",
    "    content     = section.select('.content')[0].text.strip()\n",
    "    question_list.append({'question_label':question_label.text, \\\n",
    "                          'question'      :question, \\\n",
    "                          'content'       :content, \\\n",
    "                          'dt'            :dt.text, \\\n",
    "                          'replies'       :replies.text, \\\n",
    "                          'tags'          :tags, \\\n",
    "                          'userinfo'      :userinfo,\\\n",
    "                          'link'          :link})\n"
   ]
  },
  {
   "cell_type": "code",
   "execution_count": 54,
   "metadata": {
    "collapsed": false
   },
   "outputs": [],
   "source": [
    "import pandas\n",
    "questiondf = pandas.DataFrame(question_list)"
   ]
  },
  {
   "cell_type": "code",
   "execution_count": 56,
   "metadata": {
    "collapsed": false
   },
   "outputs": [
    {
     "data": {
      "text/html": [
       "<div>\n",
       "<table border=\"1\" class=\"dataframe\">\n",
       "  <thead>\n",
       "    <tr style=\"text-align: right;\">\n",
       "      <th></th>\n",
       "      <th>content</th>\n",
       "      <th>dt</th>\n",
       "      <th>link</th>\n",
       "      <th>question</th>\n",
       "      <th>question_label</th>\n",
       "      <th>replies</th>\n",
       "      <th>tags</th>\n",
       "      <th>userinfo</th>\n",
       "    </tr>\n",
       "  </thead>\n",
       "  <tbody>\n",
       "    <tr>\n",
       "      <th>0</th>\n",
       "      <td>諜對蝶【LINE】：spyvsfly\\r\\n　看的到素質.教育服務態度【以客為尊】\\r\\n　...</td>\n",
       "      <td>2017-11-30 04:21:55</td>\n",
       "      <td>https://my83.com.tw/question/12153</td>\n",
       "      <td>台南外約♥諜對蝶LINE：spyvsfly 台南叫小姐</td>\n",
       "      <td>投保問題</td>\n",
       "      <td>0</td>\n",
       "      <td>其他,保險觀念</td>\n",
       "      <td>201545562</td>\n",
       "    </tr>\n",
       "    <tr>\n",
       "      <th>1</th>\n",
       "      <td>諜對蝶【LINE】：spyvsfly\\r\\n　看的到素質.教育服務態度【以客為尊】\\r\\n　...</td>\n",
       "      <td>2017-11-30 03:16:49</td>\n",
       "      <td>https://my83.com.tw/question/12152</td>\n",
       "      <td>宜蘭魚訊♥諜對蝶LINE：spyvsfly宜蘭正妹</td>\n",
       "      <td>投保問題</td>\n",
       "      <td>0</td>\n",
       "      <td>其他,理賠</td>\n",
       "      <td>201545562</td>\n",
       "    </tr>\n",
       "    <tr>\n",
       "      <th>2</th>\n",
       "      <td>諜對蝶【LINE】：spyvsfly\\r\\n　看的到素質.教育服務態度【以客為尊】\\r\\n　...</td>\n",
       "      <td>2017-11-30 02:56:21</td>\n",
       "      <td>https://my83.com.tw/question/12151</td>\n",
       "      <td>彰化外送茶♥諜對蝶LINE：spyvsfly彰化外約</td>\n",
       "      <td>閒聊</td>\n",
       "      <td>0</td>\n",
       "      <td>其他,理賠</td>\n",
       "      <td>201545562</td>\n",
       "    </tr>\n",
       "    <tr>\n",
       "      <th>3</th>\n",
       "      <td>個人資訊：\\r\\n年齡 27 / 女性 / 單身\\r\\n台北市外商文書工作 / 通勤以捷運為...</td>\n",
       "      <td>2017-11-29 21:46:05</td>\n",
       "      <td>https://my83.com.tw/question/12149</td>\n",
       "      <td>27 歲女第一張保單醫療險請益</td>\n",
       "      <td>保單好不好</td>\n",
       "      <td>5</td>\n",
       "      <td>小資族,實支實付醫療,醫療險,癌症險,重大疾病險</td>\n",
       "      <td>Birdy</td>\n",
       "    </tr>\n",
       "    <tr>\n",
       "      <th>4</th>\n",
       "      <td>這些是以前當學生時買的保單(新光人壽)請問可以幫我檢查一下我還需加點甚麼嗎?\\r\\n目前本人...</td>\n",
       "      <td>2017-11-29 21:42:16</td>\n",
       "      <td>https://my83.com.tw/question/12148</td>\n",
       "      <td>保單健檢</td>\n",
       "      <td>保單好不好</td>\n",
       "      <td>7</td>\n",
       "      <td>小資族</td>\n",
       "      <td>momo77</td>\n",
       "    </tr>\n",
       "  </tbody>\n",
       "</table>\n",
       "</div>"
      ],
      "text/plain": [
       "                                             content                   dt  \\\n",
       "0  諜對蝶【LINE】：spyvsfly\\r\\n　看的到素質.教育服務態度【以客為尊】\\r\\n　...  2017-11-30 04:21:55   \n",
       "1  諜對蝶【LINE】：spyvsfly\\r\\n　看的到素質.教育服務態度【以客為尊】\\r\\n　...  2017-11-30 03:16:49   \n",
       "2  諜對蝶【LINE】：spyvsfly\\r\\n　看的到素質.教育服務態度【以客為尊】\\r\\n　...  2017-11-30 02:56:21   \n",
       "3  個人資訊：\\r\\n年齡 27 / 女性 / 單身\\r\\n台北市外商文書工作 / 通勤以捷運為...  2017-11-29 21:46:05   \n",
       "4  這些是以前當學生時買的保單(新光人壽)請問可以幫我檢查一下我還需加點甚麼嗎?\\r\\n目前本人...  2017-11-29 21:42:16   \n",
       "\n",
       "                                 link                      question  \\\n",
       "0  https://my83.com.tw/question/12153   台南外約♥諜對蝶LINE：spyvsfly 台南叫小姐   \n",
       "1  https://my83.com.tw/question/12152     宜蘭魚訊♥諜對蝶LINE：spyvsfly宜蘭正妹   \n",
       "2  https://my83.com.tw/question/12151    彰化外送茶♥諜對蝶LINE：spyvsfly彰化外約   \n",
       "3  https://my83.com.tw/question/12149               27 歲女第一張保單醫療險請益   \n",
       "4  https://my83.com.tw/question/12148                          保單健檢   \n",
       "\n",
       "  question_label replies                      tags   userinfo  \n",
       "0           投保問題       0                   其他,保險觀念  201545562  \n",
       "1           投保問題       0                     其他,理賠  201545562  \n",
       "2             閒聊       0                     其他,理賠  201545562  \n",
       "3          保單好不好       5  小資族,實支實付醫療,醫療險,癌症險,重大疾病險      Birdy  \n",
       "4          保單好不好       7                       小資族     momo77  "
      ]
     },
     "execution_count": 56,
     "metadata": {},
     "output_type": "execute_result"
    }
   ],
   "source": [
    "questiondf.head()"
   ]
  },
  {
   "cell_type": "markdown",
   "metadata": {},
   "source": [
    "## 抓取內容"
   ]
  },
  {
   "cell_type": "code",
   "execution_count": 57,
   "metadata": {
    "collapsed": true
   },
   "outputs": [],
   "source": [
    "import requests\n",
    "res = requests.get('https://my83.com.tw/question/12013')"
   ]
  },
  {
   "cell_type": "code",
   "execution_count": 59,
   "metadata": {
    "collapsed": false
   },
   "outputs": [],
   "source": [
    "from bs4 import BeautifulSoup\n",
    "soup = BeautifulSoup(res.text, 'html.parser')"
   ]
  },
  {
   "cell_type": "code",
   "execution_count": 64,
   "metadata": {
    "collapsed": false
   },
   "outputs": [
    {
     "data": {
      "text/plain": [
       "'33歲 男性 有1子女 請問現有保單有需要增加或減少的地方嗎?\\n\\r\\n富邦人壽真心關懷重大疾病暨特定傷病終身健康保險主約  30萬\\r\\n富邦人壽防癌終身健康保險附約(PCC1) 3單位\\r\\n富邦人壽享安心住院醫療定額健康保險附約 1000元\\r\\n富邦人壽長青健康保險附約(計畫c) 1單位\\r\\n富邦人壽新住院醫療定期健康保險附約(HSC5) 1單位\\r\\n富邦人壽安心寶意外傷害保險附約 100萬 \\r\\n安心寶意外傷害保險附約意外傷害醫療保險金一般型 5萬 \\r\\n富邦人壽日額型意外傷害住院醫療保險附約 20單位 \\r\\n富邦人壽保險費豁免附約條款 '"
      ]
     },
     "execution_count": 64,
     "metadata": {},
     "output_type": "execute_result"
    }
   ],
   "source": [
    "question_content = soup.select('.question-content')[0].text\n",
    "question_content"
   ]
  },
  {
   "cell_type": "code",
   "execution_count": 81,
   "metadata": {
    "collapsed": false
   },
   "outputs": [],
   "source": [
    "import pandas\n",
    "answer_ary = []\n",
    "for answer in soup.select('#answerList .item'):\n",
    "    author   = answer.select('.consultation')[0].text\n",
    "    content  = answer.select('.answer-content')[0].text\n",
    "    identity = answer.select('.col-sm-8 .list-group-item-text')[1].text\n",
    "    date     = answer.select('.date')[0].text\n",
    "    answer_ary.append({'author' : author,\\\n",
    "                      'content' : content,\\\n",
    "                      'identity': identity,\\\n",
    "                      'date'    : date})\n",
    "    #print('============================================')"
   ]
  },
  {
   "cell_type": "code",
   "execution_count": 83,
   "metadata": {
    "collapsed": false
   },
   "outputs": [
    {
     "data": {
      "text/html": [
       "<div>\n",
       "<table border=\"1\" class=\"dataframe\">\n",
       "  <thead>\n",
       "    <tr style=\"text-align: right;\">\n",
       "      <th></th>\n",
       "      <th>author</th>\n",
       "      <th>content</th>\n",
       "      <th>date</th>\n",
       "      <th>identity</th>\n",
       "    </tr>\n",
       "  </thead>\n",
       "  <tbody>\n",
       "    <tr>\n",
       "      <th>0</th>\n",
       "      <td>保險經紀人Roger</td>\n",
       "      <td>富邦人壽真心關懷重大疾病暨特定傷病終身健康保險主約 30萬\\n理賠包含癌症在內多項特殊疾病\\...</td>\n",
       "      <td>2017-11-22 01:41:09</td>\n",
       "      <td>保險業務員 @ 新北市</td>\n",
       "    </tr>\n",
       "    <tr>\n",
       "      <th>1</th>\n",
       "      <td>保險經紀人Ann</td>\n",
       "      <td>VC610您好\\n富邦人壽真心關懷重大疾病暨特定傷病終身健康保險主約 30萬\\n重大傷病的部...</td>\n",
       "      <td>2017-11-22 02:12:19</td>\n",
       "      <td>保險業務員 @ 高雄市</td>\n",
       "    </tr>\n",
       "    <tr>\n",
       "      <th>2</th>\n",
       "      <td>林珉毅</td>\n",
       "      <td>PCC1跟享安心住院可以有更好的選擇\\n\\n有任何問題或需要服務的地方歡迎來信!\\n感謝您!</td>\n",
       "      <td>2017-11-29 20:57:46</td>\n",
       "      <td>保險業務員 @ 台中市 磐石保經</td>\n",
       "    </tr>\n",
       "  </tbody>\n",
       "</table>\n",
       "</div>"
      ],
      "text/plain": [
       "        author                                            content  \\\n",
       "0  保險經紀人Roger   富邦人壽真心關懷重大疾病暨特定傷病終身健康保險主約 30萬\\n理賠包含癌症在內多項特殊疾病\\...   \n",
       "1    保險經紀人Ann   VC610您好\\n富邦人壽真心關懷重大疾病暨特定傷病終身健康保險主約 30萬\\n重大傷病的部...   \n",
       "2         林珉毅      PCC1跟享安心住院可以有更好的選擇\\n\\n有任何問題或需要服務的地方歡迎來信!\\n感謝您!   \n",
       "\n",
       "                  date          identity  \n",
       "0  2017-11-22 01:41:09       保險業務員 @ 新北市  \n",
       "1  2017-11-22 02:12:19       保險業務員 @ 高雄市  \n",
       "2  2017-11-29 20:57:46  保險業務員 @ 台中市 磐石保經  "
      ]
     },
     "execution_count": 83,
     "metadata": {},
     "output_type": "execute_result"
    }
   ],
   "source": [
    "answerdf = pandas.DataFrame(answer_ary)\n",
    "answerdf"
   ]
  },
  {
   "cell_type": "markdown",
   "metadata": {},
   "source": [
    "## 整理內容頁"
   ]
  },
  {
   "cell_type": "code",
   "execution_count": 84,
   "metadata": {
    "collapsed": true
   },
   "outputs": [],
   "source": [
    "link = 'https://my83.com.tw/question/12013'"
   ]
  },
  {
   "cell_type": "code",
   "execution_count": 129,
   "metadata": {
    "collapsed": false
   },
   "outputs": [
    {
     "data": {
      "text/plain": [
       "{'careate_time': '2017-11-22 01:01:51',\n",
       " 'category': 'policy',\n",
       " 'content': '33歲 男性 有1子女 請問現有保單有需要增加或減少的地方嗎?<br />\\r\\n<br />\\r\\n富邦人壽真心關懷重大疾病暨特定傷病終身健康保險主約  30萬<br />\\r\\n富邦人壽防癌終身健康保險附約(PCC1) 3單位<br />\\r\\n富邦人壽享安心住院醫療定額健康保險附約 1000元<br />\\r\\n富邦人壽長青健康保險附約(計畫c) 1單位<br />\\r\\n富邦人壽新住院醫療定期健康保險附約(HSC5) 1單位<br />\\r\\n富邦人壽安心寶意外傷害保險附約 100萬 <br />\\r\\n安心寶意外傷害保險附約意外傷害醫療保險金一般型 5萬 <br />\\r\\n富邦人壽日額型意外傷害住院醫療保險附約 20單位 <br />\\r\\n富邦人壽保險費豁免附約條款 ',\n",
       " 'link': 'https://my83.com.tw/question/12013',\n",
       " 'nickname': 'VC610',\n",
       " 'tag_name': '小家庭,實支實付醫療,住院日額型醫療,意外險,癌症險',\n",
       " 'title': '33歲 男性 有1子女 請問富邦人壽保單有需要增加或減少的地方嗎?'}"
      ]
     },
     "execution_count": 129,
     "metadata": {},
     "output_type": "execute_result"
    }
   ],
   "source": [
    "import requests\n",
    "import pandas\n",
    "import re\n",
    "import json\n",
    "import pandas\n",
    "from bs4 import BeautifulSoup\n",
    "\n",
    "link = 'https://my83.com.tw/question/12013'\n",
    "res = requests.get(link)\n",
    "soup = BeautifulSoup(res.text, 'html.parser')\n",
    "\n",
    "m = re.search('question: (.*)',res.text)\n",
    "\n",
    "jd = json.loads(m.group(1).rstrip(','))\n",
    "\n",
    "output = {}\n",
    "output['content']      = jd['content']\n",
    "output['careate_time'] = jd['created_time']\n",
    "output['nickname']     = jd['nickname']\n",
    "output['tag_name']     = ','.join([tag['tag_name'] for tag in jd['tag']])\n",
    "output['title']        = jd['title']\n",
    "output['category']     = jd['category']\n",
    "output['link']         = link\n",
    "output"
   ]
  },
  {
   "cell_type": "code",
   "execution_count": 130,
   "metadata": {
    "collapsed": false
   },
   "outputs": [],
   "source": [
    "import pandas, sqlite3\n",
    "df = pandas.DataFrame([output])\n",
    "#df\n",
    "\n",
    "with sqlite3.connect('my83.sqlite') as db:\n",
    "    df.to_sql('question', con = db, if_exists='replace')"
   ]
  },
  {
   "cell_type": "code",
   "execution_count": 131,
   "metadata": {
    "collapsed": false
   },
   "outputs": [
    {
     "data": {
      "text/html": [
       "<div>\n",
       "<table border=\"1\" class=\"dataframe\">\n",
       "  <thead>\n",
       "    <tr style=\"text-align: right;\">\n",
       "      <th></th>\n",
       "      <th>index</th>\n",
       "      <th>careate_time</th>\n",
       "      <th>category</th>\n",
       "      <th>content</th>\n",
       "      <th>link</th>\n",
       "      <th>nickname</th>\n",
       "      <th>tag_name</th>\n",
       "      <th>title</th>\n",
       "    </tr>\n",
       "  </thead>\n",
       "  <tbody>\n",
       "    <tr>\n",
       "      <th>0</th>\n",
       "      <td>0</td>\n",
       "      <td>2017-11-22 01:01:51</td>\n",
       "      <td>policy</td>\n",
       "      <td>33歲 男性 有1子女 請問現有保單有需要增加或減少的地方嗎?&lt;br /&gt;\\r\\n&lt;br /...</td>\n",
       "      <td>https://my83.com.tw/question/12013</td>\n",
       "      <td>VC610</td>\n",
       "      <td>小家庭,實支實付醫療,住院日額型醫療,意外險,癌症險</td>\n",
       "      <td>33歲 男性 有1子女 請問富邦人壽保單有需要增加或減少的地方嗎?</td>\n",
       "    </tr>\n",
       "  </tbody>\n",
       "</table>\n",
       "</div>"
      ],
      "text/plain": [
       "   index         careate_time category  \\\n",
       "0      0  2017-11-22 01:01:51   policy   \n",
       "\n",
       "                                             content  \\\n",
       "0  33歲 男性 有1子女 請問現有保單有需要增加或減少的地方嗎?<br />\\r\\n<br /...   \n",
       "\n",
       "                                 link nickname                    tag_name  \\\n",
       "0  https://my83.com.tw/question/12013    VC610  小家庭,實支實付醫療,住院日額型醫療,意外險,癌症險   \n",
       "\n",
       "                               title  \n",
       "0  33歲 男性 有1子女 請問富邦人壽保單有需要增加或減少的地方嗎?  "
      ]
     },
     "execution_count": 131,
     "metadata": {},
     "output_type": "execute_result"
    }
   ],
   "source": [
    "with sqlite3.connect('my83.sqlite') as db:\n",
    "    df2 = pandas.read_sql_query('select * from question', con = db)\n",
    "df2"
   ]
  },
  {
   "cell_type": "markdown",
   "metadata": {},
   "source": [
    "## 抓取清單頁，將問題存進資料庫中"
   ]
  },
  {
   "cell_type": "code",
   "execution_count": 133,
   "metadata": {
    "collapsed": false
   },
   "outputs": [],
   "source": [
    "import requests\n",
    "import pandas\n",
    "import re\n",
    "import json\n",
    "import pandas\n",
    "from bs4 import BeautifulSoup\n",
    "\n",
    "def getQuestions(link):\n",
    "    res = requests.get(link)\n",
    "    soup = BeautifulSoup(res.text, 'html.parser')\n",
    "\n",
    "    m = re.search('question: (.*)',res.text)\n",
    "\n",
    "    jd = json.loads(m.group(1).rstrip(','))\n",
    "\n",
    "    output = {}\n",
    "    output['content']      = jd['content']\n",
    "    output['careate_time'] = jd['created_time']\n",
    "    output['nickname']     = jd['nickname']\n",
    "    output['tag_name']     = ','.join([tag['tag_name'] for tag in jd['tag']])\n",
    "    output['title']        = jd['title']\n",
    "    output['category']     = jd['category']\n",
    "    output['link']         = link\n",
    "    return output"
   ]
  },
  {
   "cell_type": "code",
   "execution_count": 137,
   "metadata": {
    "collapsed": false
   },
   "outputs": [
    {
     "name": "stdout",
     "output_type": "stream",
     "text": [
      "1\n",
      "2\n",
      "3\n"
     ]
    }
   ],
   "source": [
    "import requests\n",
    "from bs4 import BeautifulSoup\n",
    "question_url = 'https://my83.com.tw/question/index?page={}'\n",
    "domain = 'https://my83.com.tw'\n",
    "\n",
    "question_list = []\n",
    "for page in range(1,4):\n",
    "    print(page)\n",
    "    res = requests.get(question_url.format(page))\n",
    "    soup = BeautifulSoup(res.text, 'lxml')\n",
    "\n",
    "    for section in soup.select('#questionList section'):\n",
    "        link = domain + section.select('a')[0]['href']\n",
    "        question_list.append(getQuestions(link))\n"
   ]
  },
  {
   "cell_type": "code",
   "execution_count": 138,
   "metadata": {
    "collapsed": true
   },
   "outputs": [],
   "source": [
    "import pandas, sqlite3\n",
    "df = pandas.DataFrame(question_list)\n",
    "with sqlite3.connect('my83.sqlite') as db:\n",
    "    df.to_sql('questions', con = db, if_exists='replace') # replace, append"
   ]
  },
  {
   "cell_type": "code",
   "execution_count": 140,
   "metadata": {
    "collapsed": false
   },
   "outputs": [
    {
     "data": {
      "text/html": [
       "<div>\n",
       "<table border=\"1\" class=\"dataframe\">\n",
       "  <thead>\n",
       "    <tr style=\"text-align: right;\">\n",
       "      <th></th>\n",
       "      <th>index</th>\n",
       "      <th>careate_time</th>\n",
       "      <th>category</th>\n",
       "      <th>content</th>\n",
       "      <th>link</th>\n",
       "      <th>nickname</th>\n",
       "      <th>tag_name</th>\n",
       "      <th>title</th>\n",
       "    </tr>\n",
       "  </thead>\n",
       "  <tbody>\n",
       "    <tr>\n",
       "      <th>0</th>\n",
       "      <td>8</td>\n",
       "      <td>2017-11-29 14:18:43</td>\n",
       "      <td>question</td>\n",
       "      <td>富邦nhr1有包含住院前後門診費用嗎  謝謝</td>\n",
       "      <td>https://my83.com.tw/question/12138</td>\n",
       "      <td></td>\n",
       "      <td>小家庭,其他,實支實付醫療,理賠</td>\n",
       "      <td>富邦nhr1有包含住院前後門診費用嗎  謝謝</td>\n",
       "    </tr>\n",
       "    <tr>\n",
       "      <th>1</th>\n",
       "      <td>23</td>\n",
       "      <td>2017-11-28 11:23:46</td>\n",
       "      <td>question</td>\n",
       "      <td>目前規劃雙實支-其中一家是用全球&lt;br /&gt;\\r\\n全球：LDC(C型) -20年/1萬+X...</td>\n",
       "      <td>https://my83.com.tw/question/12108</td>\n",
       "      <td>fy</td>\n",
       "      <td>小資族,保險類型,實支實付醫療,醫療險,意外險,癌症險,重大疾病險,定期</td>\n",
       "      <td>MY83精選搭配-富邦.國泰.南山</td>\n",
       "    </tr>\n",
       "  </tbody>\n",
       "</table>\n",
       "</div>"
      ],
      "text/plain": [
       "   index         careate_time  category  \\\n",
       "0      8  2017-11-29 14:18:43  question   \n",
       "1     23  2017-11-28 11:23:46  question   \n",
       "\n",
       "                                             content  \\\n",
       "0                             富邦nhr1有包含住院前後門診費用嗎  謝謝   \n",
       "1  目前規劃雙實支-其中一家是用全球<br />\\r\\n全球：LDC(C型) -20年/1萬+X...   \n",
       "\n",
       "                                 link nickname  \\\n",
       "0  https://my83.com.tw/question/12138            \n",
       "1  https://my83.com.tw/question/12108       fy   \n",
       "\n",
       "                               tag_name                   title  \n",
       "0                      小家庭,其他,實支實付醫療,理賠  富邦nhr1有包含住院前後門診費用嗎  謝謝  \n",
       "1  小資族,保險類型,實支實付醫療,醫療險,意外險,癌症險,重大疾病險,定期       MY83精選搭配-富邦.國泰.南山  "
      ]
     },
     "execution_count": 140,
     "metadata": {},
     "output_type": "execute_result"
    }
   ],
   "source": [
    "with sqlite3.connect('my83.sqlite') as db:\n",
    "    df2 = pandas.read_sql_query('select * from questions where content like \"%富邦%\" ', con = db)\n",
    "df2"
   ]
  },
  {
   "cell_type": "markdown",
   "metadata": {},
   "source": [
    "## 整理回答"
   ]
  },
  {
   "cell_type": "code",
   "execution_count": 93,
   "metadata": {
    "collapsed": false
   },
   "outputs": [
    {
     "data": {
      "text/plain": [
       "[<span class=\"label label-success\">保單好不好</span>,\n",
       " <a class=\"label label-info text-white\" href=\"/company/profile/fubonlife\">富邦人壽</a>]"
      ]
     },
     "execution_count": 93,
     "metadata": {},
     "output_type": "execute_result"
    }
   ],
   "source": [
    "question_content = soup.select('.question-content')[0].text\n",
    "soup.select('.userInfo')[0].text.strip()\n",
    "soup.select('.label')"
   ]
  },
  {
   "cell_type": "code",
   "execution_count": null,
   "metadata": {
    "collapsed": true
   },
   "outputs": [],
   "source": [
    "\n",
    "answer_ary = []\n",
    "for answer in soup.select('#answerList .item'):\n",
    "    author   = answer.select('.consultation')[0].text\n",
    "    content  = answer.select('.answer-content')[0].text\n",
    "    identity = answer.select('.col-sm-8 .list-group-item-text')[1].text\n",
    "    date     = answer.select('.date')[0].text\n",
    "    answer_ary.append({'author' : author,\\\n",
    "                      'content' : content,\\\n",
    "                      'identity': identity,\\\n",
    "                      'date'    : date})\n",
    "    answerdf = pandas.DataFrame(answer_ary)\n",
    "answerdf"
   ]
  }
 ],
 "metadata": {
  "kernelspec": {
   "display_name": "Python 3",
   "language": "python",
   "name": "python3"
  },
  "language_info": {
   "codemirror_mode": {
    "name": "ipython",
    "version": 3
   },
   "file_extension": ".py",
   "mimetype": "text/x-python",
   "name": "python",
   "nbconvert_exporter": "python",
   "pygments_lexer": "ipython3",
   "version": "3.6.0"
  }
 },
 "nbformat": 4,
 "nbformat_minor": 2
}
