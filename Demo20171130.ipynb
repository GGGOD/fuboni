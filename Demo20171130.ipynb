{
 "cells": [
  {
   "cell_type": "code",
   "execution_count": 1,
   "metadata": {
    "collapsed": true
   },
   "outputs": [],
   "source": [
    "import requests\n",
    "res = requests.get('https://my83.com.tw/question')"
   ]
  },
  {
   "cell_type": "code",
   "execution_count": 4,
   "metadata": {
    "collapsed": false
   },
   "outputs": [],
   "source": [
    "from bs4 import BeautifulSoup\n",
    "soup = BeautifulSoup(res.text, 'lxml')"
   ]
  },
  {
   "cell_type": "code",
   "execution_count": 53,
   "metadata": {
    "collapsed": false
   },
   "outputs": [],
   "source": [
    "question_list = []\n",
    "domain = 'https://my83.com.tw'\n",
    "for section in soup.select('#questionList section'):\n",
    "    #print(section)\n",
    "    link = domain + section.select('a')[0]['href']\n",
    "    question_label, question = section.select('h3')[0].contents\n",
    "    tags = ','.join([tag.text for tag in section.select('.tag')])\n",
    "    dt, replies = section.select('.text-right .list-group-item-text')\n",
    "    userinfo    = section.select('.userInfo')[0].text.strip()\n",
    "    content     = section.select('.content')[0].text.strip()\n",
    "    question_list.append({'question_label':question_label.text, \\\n",
    "                          'question'      :question, \\\n",
    "                          'content'       :content, \\\n",
    "                          'dt'            :dt.text, \\\n",
    "                          'replies'       :replies.text, \\\n",
    "                          'tags'          :tags, \\\n",
    "                          'userinfo'      :userinfo,\\\n",
    "                          'link'          :link})\n"
   ]
  },
  {
   "cell_type": "code",
   "execution_count": 54,
   "metadata": {
    "collapsed": false
   },
   "outputs": [],
   "source": [
    "import pandas\n",
    "questiondf = pandas.DataFrame(question_list)"
   ]
  },
  {
   "cell_type": "code",
   "execution_count": 56,
   "metadata": {
    "collapsed": false
   },
   "outputs": [
    {
     "data": {
      "text/html": [
       "<div>\n",
       "<table border=\"1\" class=\"dataframe\">\n",
       "  <thead>\n",
       "    <tr style=\"text-align: right;\">\n",
       "      <th></th>\n",
       "      <th>content</th>\n",
       "      <th>dt</th>\n",
       "      <th>link</th>\n",
       "      <th>question</th>\n",
       "      <th>question_label</th>\n",
       "      <th>replies</th>\n",
       "      <th>tags</th>\n",
       "      <th>userinfo</th>\n",
       "    </tr>\n",
       "  </thead>\n",
       "  <tbody>\n",
       "    <tr>\n",
       "      <th>0</th>\n",
       "      <td>諜對蝶【LINE】：spyvsfly\\r\\n　看的到素質.教育服務態度【以客為尊】\\r\\n　...</td>\n",
       "      <td>2017-11-30 04:21:55</td>\n",
       "      <td>https://my83.com.tw/question/12153</td>\n",
       "      <td>台南外約♥諜對蝶LINE：spyvsfly 台南叫小姐</td>\n",
       "      <td>投保問題</td>\n",
       "      <td>0</td>\n",
       "      <td>其他,保險觀念</td>\n",
       "      <td>201545562</td>\n",
       "    </tr>\n",
       "    <tr>\n",
       "      <th>1</th>\n",
       "      <td>諜對蝶【LINE】：spyvsfly\\r\\n　看的到素質.教育服務態度【以客為尊】\\r\\n　...</td>\n",
       "      <td>2017-11-30 03:16:49</td>\n",
       "      <td>https://my83.com.tw/question/12152</td>\n",
       "      <td>宜蘭魚訊♥諜對蝶LINE：spyvsfly宜蘭正妹</td>\n",
       "      <td>投保問題</td>\n",
       "      <td>0</td>\n",
       "      <td>其他,理賠</td>\n",
       "      <td>201545562</td>\n",
       "    </tr>\n",
       "    <tr>\n",
       "      <th>2</th>\n",
       "      <td>諜對蝶【LINE】：spyvsfly\\r\\n　看的到素質.教育服務態度【以客為尊】\\r\\n　...</td>\n",
       "      <td>2017-11-30 02:56:21</td>\n",
       "      <td>https://my83.com.tw/question/12151</td>\n",
       "      <td>彰化外送茶♥諜對蝶LINE：spyvsfly彰化外約</td>\n",
       "      <td>閒聊</td>\n",
       "      <td>0</td>\n",
       "      <td>其他,理賠</td>\n",
       "      <td>201545562</td>\n",
       "    </tr>\n",
       "    <tr>\n",
       "      <th>3</th>\n",
       "      <td>個人資訊：\\r\\n年齡 27 / 女性 / 單身\\r\\n台北市外商文書工作 / 通勤以捷運為...</td>\n",
       "      <td>2017-11-29 21:46:05</td>\n",
       "      <td>https://my83.com.tw/question/12149</td>\n",
       "      <td>27 歲女第一張保單醫療險請益</td>\n",
       "      <td>保單好不好</td>\n",
       "      <td>5</td>\n",
       "      <td>小資族,實支實付醫療,醫療險,癌症險,重大疾病險</td>\n",
       "      <td>Birdy</td>\n",
       "    </tr>\n",
       "    <tr>\n",
       "      <th>4</th>\n",
       "      <td>這些是以前當學生時買的保單(新光人壽)請問可以幫我檢查一下我還需加點甚麼嗎?\\r\\n目前本人...</td>\n",
       "      <td>2017-11-29 21:42:16</td>\n",
       "      <td>https://my83.com.tw/question/12148</td>\n",
       "      <td>保單健檢</td>\n",
       "      <td>保單好不好</td>\n",
       "      <td>7</td>\n",
       "      <td>小資族</td>\n",
       "      <td>momo77</td>\n",
       "    </tr>\n",
       "  </tbody>\n",
       "</table>\n",
       "</div>"
      ],
      "text/plain": [
       "                                             content                   dt  \\\n",
       "0  諜對蝶【LINE】：spyvsfly\\r\\n　看的到素質.教育服務態度【以客為尊】\\r\\n　...  2017-11-30 04:21:55   \n",
       "1  諜對蝶【LINE】：spyvsfly\\r\\n　看的到素質.教育服務態度【以客為尊】\\r\\n　...  2017-11-30 03:16:49   \n",
       "2  諜對蝶【LINE】：spyvsfly\\r\\n　看的到素質.教育服務態度【以客為尊】\\r\\n　...  2017-11-30 02:56:21   \n",
       "3  個人資訊：\\r\\n年齡 27 / 女性 / 單身\\r\\n台北市外商文書工作 / 通勤以捷運為...  2017-11-29 21:46:05   \n",
       "4  這些是以前當學生時買的保單(新光人壽)請問可以幫我檢查一下我還需加點甚麼嗎?\\r\\n目前本人...  2017-11-29 21:42:16   \n",
       "\n",
       "                                 link                      question  \\\n",
       "0  https://my83.com.tw/question/12153   台南外約♥諜對蝶LINE：spyvsfly 台南叫小姐   \n",
       "1  https://my83.com.tw/question/12152     宜蘭魚訊♥諜對蝶LINE：spyvsfly宜蘭正妹   \n",
       "2  https://my83.com.tw/question/12151    彰化外送茶♥諜對蝶LINE：spyvsfly彰化外約   \n",
       "3  https://my83.com.tw/question/12149               27 歲女第一張保單醫療險請益   \n",
       "4  https://my83.com.tw/question/12148                          保單健檢   \n",
       "\n",
       "  question_label replies                      tags   userinfo  \n",
       "0           投保問題       0                   其他,保險觀念  201545562  \n",
       "1           投保問題       0                     其他,理賠  201545562  \n",
       "2             閒聊       0                     其他,理賠  201545562  \n",
       "3          保單好不好       5  小資族,實支實付醫療,醫療險,癌症險,重大疾病險      Birdy  \n",
       "4          保單好不好       7                       小資族     momo77  "
      ]
     },
     "execution_count": 56,
     "metadata": {},
     "output_type": "execute_result"
    }
   ],
   "source": [
    "questiondf.head()"
   ]
  },
  {
   "cell_type": "code",
   "execution_count": null,
   "metadata": {
    "collapsed": true
   },
   "outputs": [],
   "source": []
  }
 ],
 "metadata": {
  "kernelspec": {
   "display_name": "Python 3",
   "language": "python",
   "name": "python3"
  },
  "language_info": {
   "codemirror_mode": {
    "name": "ipython",
    "version": 3
   },
   "file_extension": ".py",
   "mimetype": "text/x-python",
   "name": "python",
   "nbconvert_exporter": "python",
   "pygments_lexer": "ipython3",
   "version": "3.6.0"
  }
 },
 "nbformat": 4,
 "nbformat_minor": 2
}
