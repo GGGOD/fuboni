{
 "cells": [
  {
   "cell_type": "code",
   "execution_count": 1,
   "metadata": {
    "collapsed": true
   },
   "outputs": [],
   "source": [
    "import requests\n",
    "res = requests.get('https://my83.com.tw/question')"
   ]
  },
  {
   "cell_type": "code",
   "execution_count": 4,
   "metadata": {
    "collapsed": false
   },
   "outputs": [],
   "source": [
    "from bs4 import BeautifulSoup\n",
    "soup = BeautifulSoup(res.text, 'lxml')"
   ]
  },
  {
   "cell_type": "code",
   "execution_count": 53,
   "metadata": {
    "collapsed": false
   },
   "outputs": [],
   "source": [
    "question_list = []\n",
    "domain = 'https://my83.com.tw'\n",
    "for section in soup.select('#questionList section'):\n",
    "    #print(section)\n",
    "    link = domain + section.select('a')[0]['href']\n",
    "    question_label, question = section.select('h3')[0].contents\n",
    "    tags = ','.join([tag.text for tag in section.select('.tag')])\n",
    "    dt, replies = section.select('.text-right .list-group-item-text')\n",
    "    userinfo    = section.select('.userInfo')[0].text.strip()\n",
    "    content     = section.select('.content')[0].text.strip()\n",
    "    question_list.append({'question_label':question_label.text, \\\n",
    "                          'question'      :question, \\\n",
    "                          'content'       :content, \\\n",
    "                          'dt'            :dt.text, \\\n",
    "                          'replies'       :replies.text, \\\n",
    "                          'tags'          :tags, \\\n",
    "                          'userinfo'      :userinfo,\\\n",
    "                          'link'          :link})\n"
   ]
  },
  {
   "cell_type": "code",
   "execution_count": 54,
   "metadata": {
    "collapsed": false
   },
   "outputs": [],
   "source": [
    "import pandas\n",
    "questiondf = pandas.DataFrame(question_list)"
   ]
  },
  {
   "cell_type": "code",
   "execution_count": 56,
   "metadata": {
    "collapsed": false
   },
   "outputs": [
    {
     "data": {
      "text/html": [
       "<div>\n",
       "<table border=\"1\" class=\"dataframe\">\n",
       "  <thead>\n",
       "    <tr style=\"text-align: right;\">\n",
       "      <th></th>\n",
       "      <th>content</th>\n",
       "      <th>dt</th>\n",
       "      <th>link</th>\n",
       "      <th>question</th>\n",
       "      <th>question_label</th>\n",
       "      <th>replies</th>\n",
       "      <th>tags</th>\n",
       "      <th>userinfo</th>\n",
       "    </tr>\n",
       "  </thead>\n",
       "  <tbody>\n",
       "    <tr>\n",
       "      <th>0</th>\n",
       "      <td>諜對蝶【LINE】：spyvsfly\\r\\n　看的到素質.教育服務態度【以客為尊】\\r\\n　...</td>\n",
       "      <td>2017-11-30 04:21:55</td>\n",
       "      <td>https://my83.com.tw/question/12153</td>\n",
       "      <td>台南外約♥諜對蝶LINE：spyvsfly 台南叫小姐</td>\n",
       "      <td>投保問題</td>\n",
       "      <td>0</td>\n",
       "      <td>其他,保險觀念</td>\n",
       "      <td>201545562</td>\n",
       "    </tr>\n",
       "    <tr>\n",
       "      <th>1</th>\n",
       "      <td>諜對蝶【LINE】：spyvsfly\\r\\n　看的到素質.教育服務態度【以客為尊】\\r\\n　...</td>\n",
       "      <td>2017-11-30 03:16:49</td>\n",
       "      <td>https://my83.com.tw/question/12152</td>\n",
       "      <td>宜蘭魚訊♥諜對蝶LINE：spyvsfly宜蘭正妹</td>\n",
       "      <td>投保問題</td>\n",
       "      <td>0</td>\n",
       "      <td>其他,理賠</td>\n",
       "      <td>201545562</td>\n",
       "    </tr>\n",
       "    <tr>\n",
       "      <th>2</th>\n",
       "      <td>諜對蝶【LINE】：spyvsfly\\r\\n　看的到素質.教育服務態度【以客為尊】\\r\\n　...</td>\n",
       "      <td>2017-11-30 02:56:21</td>\n",
       "      <td>https://my83.com.tw/question/12151</td>\n",
       "      <td>彰化外送茶♥諜對蝶LINE：spyvsfly彰化外約</td>\n",
       "      <td>閒聊</td>\n",
       "      <td>0</td>\n",
       "      <td>其他,理賠</td>\n",
       "      <td>201545562</td>\n",
       "    </tr>\n",
       "    <tr>\n",
       "      <th>3</th>\n",
       "      <td>個人資訊：\\r\\n年齡 27 / 女性 / 單身\\r\\n台北市外商文書工作 / 通勤以捷運為...</td>\n",
       "      <td>2017-11-29 21:46:05</td>\n",
       "      <td>https://my83.com.tw/question/12149</td>\n",
       "      <td>27 歲女第一張保單醫療險請益</td>\n",
       "      <td>保單好不好</td>\n",
       "      <td>5</td>\n",
       "      <td>小資族,實支實付醫療,醫療險,癌症險,重大疾病險</td>\n",
       "      <td>Birdy</td>\n",
       "    </tr>\n",
       "    <tr>\n",
       "      <th>4</th>\n",
       "      <td>這些是以前當學生時買的保單(新光人壽)請問可以幫我檢查一下我還需加點甚麼嗎?\\r\\n目前本人...</td>\n",
       "      <td>2017-11-29 21:42:16</td>\n",
       "      <td>https://my83.com.tw/question/12148</td>\n",
       "      <td>保單健檢</td>\n",
       "      <td>保單好不好</td>\n",
       "      <td>7</td>\n",
       "      <td>小資族</td>\n",
       "      <td>momo77</td>\n",
       "    </tr>\n",
       "  </tbody>\n",
       "</table>\n",
       "</div>"
      ],
      "text/plain": [
       "                                             content                   dt  \\\n",
       "0  諜對蝶【LINE】：spyvsfly\\r\\n　看的到素質.教育服務態度【以客為尊】\\r\\n　...  2017-11-30 04:21:55   \n",
       "1  諜對蝶【LINE】：spyvsfly\\r\\n　看的到素質.教育服務態度【以客為尊】\\r\\n　...  2017-11-30 03:16:49   \n",
       "2  諜對蝶【LINE】：spyvsfly\\r\\n　看的到素質.教育服務態度【以客為尊】\\r\\n　...  2017-11-30 02:56:21   \n",
       "3  個人資訊：\\r\\n年齡 27 / 女性 / 單身\\r\\n台北市外商文書工作 / 通勤以捷運為...  2017-11-29 21:46:05   \n",
       "4  這些是以前當學生時買的保單(新光人壽)請問可以幫我檢查一下我還需加點甚麼嗎?\\r\\n目前本人...  2017-11-29 21:42:16   \n",
       "\n",
       "                                 link                      question  \\\n",
       "0  https://my83.com.tw/question/12153   台南外約♥諜對蝶LINE：spyvsfly 台南叫小姐   \n",
       "1  https://my83.com.tw/question/12152     宜蘭魚訊♥諜對蝶LINE：spyvsfly宜蘭正妹   \n",
       "2  https://my83.com.tw/question/12151    彰化外送茶♥諜對蝶LINE：spyvsfly彰化外約   \n",
       "3  https://my83.com.tw/question/12149               27 歲女第一張保單醫療險請益   \n",
       "4  https://my83.com.tw/question/12148                          保單健檢   \n",
       "\n",
       "  question_label replies                      tags   userinfo  \n",
       "0           投保問題       0                   其他,保險觀念  201545562  \n",
       "1           投保問題       0                     其他,理賠  201545562  \n",
       "2             閒聊       0                     其他,理賠  201545562  \n",
       "3          保單好不好       5  小資族,實支實付醫療,醫療險,癌症險,重大疾病險      Birdy  \n",
       "4          保單好不好       7                       小資族     momo77  "
      ]
     },
     "execution_count": 56,
     "metadata": {},
     "output_type": "execute_result"
    }
   ],
   "source": [
    "questiondf.head()"
   ]
  },
  {
   "cell_type": "markdown",
   "metadata": {},
   "source": [
    "## 抓取內容"
   ]
  },
  {
   "cell_type": "code",
   "execution_count": 57,
   "metadata": {
    "collapsed": true
   },
   "outputs": [],
   "source": [
    "import requests\n",
    "res = requests.get('https://my83.com.tw/question/12013')"
   ]
  },
  {
   "cell_type": "code",
   "execution_count": 59,
   "metadata": {
    "collapsed": false
   },
   "outputs": [],
   "source": [
    "from bs4 import BeautifulSoup\n",
    "soup = BeautifulSoup(res.text, 'html.parser')"
   ]
  },
  {
   "cell_type": "code",
   "execution_count": 64,
   "metadata": {
    "collapsed": false
   },
   "outputs": [
    {
     "data": {
      "text/plain": [
       "'33歲 男性 有1子女 請問現有保單有需要增加或減少的地方嗎?\\n\\r\\n富邦人壽真心關懷重大疾病暨特定傷病終身健康保險主約  30萬\\r\\n富邦人壽防癌終身健康保險附約(PCC1) 3單位\\r\\n富邦人壽享安心住院醫療定額健康保險附約 1000元\\r\\n富邦人壽長青健康保險附約(計畫c) 1單位\\r\\n富邦人壽新住院醫療定期健康保險附約(HSC5) 1單位\\r\\n富邦人壽安心寶意外傷害保險附約 100萬 \\r\\n安心寶意外傷害保險附約意外傷害醫療保險金一般型 5萬 \\r\\n富邦人壽日額型意外傷害住院醫療保險附約 20單位 \\r\\n富邦人壽保險費豁免附約條款 '"
      ]
     },
     "execution_count": 64,
     "metadata": {},
     "output_type": "execute_result"
    }
   ],
   "source": [
    "question_content = soup.select('.question-content')[0].text\n",
    "question_content"
   ]
  },
  {
   "cell_type": "code",
   "execution_count": 81,
   "metadata": {
    "collapsed": false
   },
   "outputs": [],
   "source": [
    "import pandas\n",
    "answer_ary = []\n",
    "for answer in soup.select('#answerList .item'):\n",
    "    author   = answer.select('.consultation')[0].text\n",
    "    content  = answer.select('.answer-content')[0].text\n",
    "    identity = answer.select('.col-sm-8 .list-group-item-text')[1].text\n",
    "    date     = answer.select('.date')[0].text\n",
    "    answer_ary.append({'author' : author,\\\n",
    "                      'content' : content,\\\n",
    "                      'identity': identity,\\\n",
    "                      'date'    : date})\n",
    "    #print('============================================')"
   ]
  },
  {
   "cell_type": "code",
   "execution_count": 83,
   "metadata": {
    "collapsed": false
   },
   "outputs": [
    {
     "data": {
      "text/html": [
       "<div>\n",
       "<table border=\"1\" class=\"dataframe\">\n",
       "  <thead>\n",
       "    <tr style=\"text-align: right;\">\n",
       "      <th></th>\n",
       "      <th>author</th>\n",
       "      <th>content</th>\n",
       "      <th>date</th>\n",
       "      <th>identity</th>\n",
       "    </tr>\n",
       "  </thead>\n",
       "  <tbody>\n",
       "    <tr>\n",
       "      <th>0</th>\n",
       "      <td>保險經紀人Roger</td>\n",
       "      <td>富邦人壽真心關懷重大疾病暨特定傷病終身健康保險主約 30萬\\n理賠包含癌症在內多項特殊疾病\\...</td>\n",
       "      <td>2017-11-22 01:41:09</td>\n",
       "      <td>保險業務員 @ 新北市</td>\n",
       "    </tr>\n",
       "    <tr>\n",
       "      <th>1</th>\n",
       "      <td>保險經紀人Ann</td>\n",
       "      <td>VC610您好\\n富邦人壽真心關懷重大疾病暨特定傷病終身健康保險主約 30萬\\n重大傷病的部...</td>\n",
       "      <td>2017-11-22 02:12:19</td>\n",
       "      <td>保險業務員 @ 高雄市</td>\n",
       "    </tr>\n",
       "    <tr>\n",
       "      <th>2</th>\n",
       "      <td>林珉毅</td>\n",
       "      <td>PCC1跟享安心住院可以有更好的選擇\\n\\n有任何問題或需要服務的地方歡迎來信!\\n感謝您!</td>\n",
       "      <td>2017-11-29 20:57:46</td>\n",
       "      <td>保險業務員 @ 台中市 磐石保經</td>\n",
       "    </tr>\n",
       "  </tbody>\n",
       "</table>\n",
       "</div>"
      ],
      "text/plain": [
       "        author                                            content  \\\n",
       "0  保險經紀人Roger   富邦人壽真心關懷重大疾病暨特定傷病終身健康保險主約 30萬\\n理賠包含癌症在內多項特殊疾病\\...   \n",
       "1    保險經紀人Ann   VC610您好\\n富邦人壽真心關懷重大疾病暨特定傷病終身健康保險主約 30萬\\n重大傷病的部...   \n",
       "2         林珉毅      PCC1跟享安心住院可以有更好的選擇\\n\\n有任何問題或需要服務的地方歡迎來信!\\n感謝您!   \n",
       "\n",
       "                  date          identity  \n",
       "0  2017-11-22 01:41:09       保險業務員 @ 新北市  \n",
       "1  2017-11-22 02:12:19       保險業務員 @ 高雄市  \n",
       "2  2017-11-29 20:57:46  保險業務員 @ 台中市 磐石保經  "
      ]
     },
     "execution_count": 83,
     "metadata": {},
     "output_type": "execute_result"
    }
   ],
   "source": [
    "answerdf = pandas.DataFrame(answer_ary)\n",
    "answerdf"
   ]
  },
  {
   "cell_type": "markdown",
   "metadata": {},
   "source": [
    "## 整理內容頁"
   ]
  },
  {
   "cell_type": "code",
   "execution_count": 84,
   "metadata": {
    "collapsed": true
   },
   "outputs": [],
   "source": [
    "link = 'https://my83.com.tw/question/12013'"
   ]
  },
  {
   "cell_type": "code",
   "execution_count": 129,
   "metadata": {
    "collapsed": false
   },
   "outputs": [
    {
     "data": {
      "text/plain": [
       "{'careate_time': '2017-11-22 01:01:51',\n",
       " 'category': 'policy',\n",
       " 'content': '33歲 男性 有1子女 請問現有保單有需要增加或減少的地方嗎?<br />\\r\\n<br />\\r\\n富邦人壽真心關懷重大疾病暨特定傷病終身健康保險主約  30萬<br />\\r\\n富邦人壽防癌終身健康保險附約(PCC1) 3單位<br />\\r\\n富邦人壽享安心住院醫療定額健康保險附約 1000元<br />\\r\\n富邦人壽長青健康保險附約(計畫c) 1單位<br />\\r\\n富邦人壽新住院醫療定期健康保險附約(HSC5) 1單位<br />\\r\\n富邦人壽安心寶意外傷害保險附約 100萬 <br />\\r\\n安心寶意外傷害保險附約意外傷害醫療保險金一般型 5萬 <br />\\r\\n富邦人壽日額型意外傷害住院醫療保險附約 20單位 <br />\\r\\n富邦人壽保險費豁免附約條款 ',\n",
       " 'link': 'https://my83.com.tw/question/12013',\n",
       " 'nickname': 'VC610',\n",
       " 'tag_name': '小家庭,實支實付醫療,住院日額型醫療,意外險,癌症險',\n",
       " 'title': '33歲 男性 有1子女 請問富邦人壽保單有需要增加或減少的地方嗎?'}"
      ]
     },
     "execution_count": 129,
     "metadata": {},
     "output_type": "execute_result"
    }
   ],
   "source": [
    "import requests\n",
    "import pandas\n",
    "import re\n",
    "import json\n",
    "import pandas\n",
    "from bs4 import BeautifulSoup\n",
    "\n",
    "link = 'https://my83.com.tw/question/12013'\n",
    "res = requests.get(link)\n",
    "soup = BeautifulSoup(res.text, 'html.parser')\n",
    "\n",
    "m = re.search('question: (.*)',res.text)\n",
    "\n",
    "jd = json.loads(m.group(1).rstrip(','))\n",
    "\n",
    "output = {}\n",
    "output['content']      = jd['content']\n",
    "output['careate_time'] = jd['created_time']\n",
    "output['nickname']     = jd['nickname']\n",
    "output['tag_name']     = ','.join([tag['tag_name'] for tag in jd['tag']])\n",
    "output['title']        = jd['title']\n",
    "output['category']     = jd['category']\n",
    "output['link']         = link\n",
    "output"
   ]
  },
  {
   "cell_type": "code",
   "execution_count": 130,
   "metadata": {
    "collapsed": false
   },
   "outputs": [],
   "source": [
    "import pandas, sqlite3\n",
    "df = pandas.DataFrame([output])\n",
    "#df\n",
    "\n",
    "with sqlite3.connect('my83.sqlite') as db:\n",
    "    df.to_sql('question', con = db, if_exists='replace')"
   ]
  },
  {
   "cell_type": "code",
   "execution_count": 131,
   "metadata": {
    "collapsed": false
   },
   "outputs": [
    {
     "data": {
      "text/html": [
       "<div>\n",
       "<table border=\"1\" class=\"dataframe\">\n",
       "  <thead>\n",
       "    <tr style=\"text-align: right;\">\n",
       "      <th></th>\n",
       "      <th>index</th>\n",
       "      <th>careate_time</th>\n",
       "      <th>category</th>\n",
       "      <th>content</th>\n",
       "      <th>link</th>\n",
       "      <th>nickname</th>\n",
       "      <th>tag_name</th>\n",
       "      <th>title</th>\n",
       "    </tr>\n",
       "  </thead>\n",
       "  <tbody>\n",
       "    <tr>\n",
       "      <th>0</th>\n",
       "      <td>0</td>\n",
       "      <td>2017-11-22 01:01:51</td>\n",
       "      <td>policy</td>\n",
       "      <td>33歲 男性 有1子女 請問現有保單有需要增加或減少的地方嗎?&lt;br /&gt;\\r\\n&lt;br /...</td>\n",
       "      <td>https://my83.com.tw/question/12013</td>\n",
       "      <td>VC610</td>\n",
       "      <td>小家庭,實支實付醫療,住院日額型醫療,意外險,癌症險</td>\n",
       "      <td>33歲 男性 有1子女 請問富邦人壽保單有需要增加或減少的地方嗎?</td>\n",
       "    </tr>\n",
       "  </tbody>\n",
       "</table>\n",
       "</div>"
      ],
      "text/plain": [
       "   index         careate_time category  \\\n",
       "0      0  2017-11-22 01:01:51   policy   \n",
       "\n",
       "                                             content  \\\n",
       "0  33歲 男性 有1子女 請問現有保單有需要增加或減少的地方嗎?<br />\\r\\n<br /...   \n",
       "\n",
       "                                 link nickname                    tag_name  \\\n",
       "0  https://my83.com.tw/question/12013    VC610  小家庭,實支實付醫療,住院日額型醫療,意外險,癌症險   \n",
       "\n",
       "                               title  \n",
       "0  33歲 男性 有1子女 請問富邦人壽保單有需要增加或減少的地方嗎?  "
      ]
     },
     "execution_count": 131,
     "metadata": {},
     "output_type": "execute_result"
    }
   ],
   "source": [
    "with sqlite3.connect('my83.sqlite') as db:\n",
    "    df2 = pandas.read_sql_query('select * from question', con = db)\n",
    "df2"
   ]
  },
  {
   "cell_type": "markdown",
   "metadata": {},
   "source": [
    "## 抓取清單頁，將問題存進資料庫中"
   ]
  },
  {
   "cell_type": "code",
   "execution_count": 133,
   "metadata": {
    "collapsed": false
   },
   "outputs": [],
   "source": [
    "import requests\n",
    "import pandas\n",
    "import re\n",
    "import json\n",
    "import pandas\n",
    "from bs4 import BeautifulSoup\n",
    "\n",
    "def getQuestions(link):\n",
    "    res = requests.get(link)\n",
    "    soup = BeautifulSoup(res.text, 'html.parser')\n",
    "\n",
    "    m = re.search('question: (.*)',res.text)\n",
    "\n",
    "    jd = json.loads(m.group(1).rstrip(','))\n",
    "\n",
    "    output = {}\n",
    "    output['content']      = jd['content']\n",
    "    output['careate_time'] = jd['created_time']\n",
    "    output['nickname']     = jd['nickname']\n",
    "    output['tag_name']     = ','.join([tag['tag_name'] for tag in jd['tag']])\n",
    "    output['title']        = jd['title']\n",
    "    output['category']     = jd['category']\n",
    "    output['link']         = link\n",
    "    return output"
   ]
  },
  {
   "cell_type": "code",
   "execution_count": 137,
   "metadata": {
    "collapsed": false
   },
   "outputs": [
    {
     "name": "stdout",
     "output_type": "stream",
     "text": [
      "1\n",
      "2\n",
      "3\n"
     ]
    }
   ],
   "source": [
    "import requests\n",
    "from bs4 import BeautifulSoup\n",
    "question_url = 'https://my83.com.tw/question/index?page={}'\n",
    "domain = 'https://my83.com.tw'\n",
    "\n",
    "question_list = []\n",
    "for page in range(1,4):\n",
    "    print(page)\n",
    "    res = requests.get(question_url.format(page))\n",
    "    soup = BeautifulSoup(res.text, 'lxml')\n",
    "\n",
    "    for section in soup.select('#questionList section'):\n",
    "        link = domain + section.select('a')[0]['href']\n",
    "        question_list.append(getQuestions(link))\n"
   ]
  },
  {
   "cell_type": "code",
   "execution_count": 138,
   "metadata": {
    "collapsed": true
   },
   "outputs": [],
   "source": [
    "import pandas, sqlite3\n",
    "df = pandas.DataFrame(question_list)\n",
    "with sqlite3.connect('my83.sqlite') as db:\n",
    "    df.to_sql('questions', con = db, if_exists='replace') # replace, append"
   ]
  },
  {
   "cell_type": "code",
   "execution_count": 140,
   "metadata": {
    "collapsed": false
   },
   "outputs": [
    {
     "data": {
      "text/html": [
       "<div>\n",
       "<table border=\"1\" class=\"dataframe\">\n",
       "  <thead>\n",
       "    <tr style=\"text-align: right;\">\n",
       "      <th></th>\n",
       "      <th>index</th>\n",
       "      <th>careate_time</th>\n",
       "      <th>category</th>\n",
       "      <th>content</th>\n",
       "      <th>link</th>\n",
       "      <th>nickname</th>\n",
       "      <th>tag_name</th>\n",
       "      <th>title</th>\n",
       "    </tr>\n",
       "  </thead>\n",
       "  <tbody>\n",
       "    <tr>\n",
       "      <th>0</th>\n",
       "      <td>8</td>\n",
       "      <td>2017-11-29 14:18:43</td>\n",
       "      <td>question</td>\n",
       "      <td>富邦nhr1有包含住院前後門診費用嗎  謝謝</td>\n",
       "      <td>https://my83.com.tw/question/12138</td>\n",
       "      <td></td>\n",
       "      <td>小家庭,其他,實支實付醫療,理賠</td>\n",
       "      <td>富邦nhr1有包含住院前後門診費用嗎  謝謝</td>\n",
       "    </tr>\n",
       "    <tr>\n",
       "      <th>1</th>\n",
       "      <td>23</td>\n",
       "      <td>2017-11-28 11:23:46</td>\n",
       "      <td>question</td>\n",
       "      <td>目前規劃雙實支-其中一家是用全球&lt;br /&gt;\\r\\n全球：LDC(C型) -20年/1萬+X...</td>\n",
       "      <td>https://my83.com.tw/question/12108</td>\n",
       "      <td>fy</td>\n",
       "      <td>小資族,保險類型,實支實付醫療,醫療險,意外險,癌症險,重大疾病險,定期</td>\n",
       "      <td>MY83精選搭配-富邦.國泰.南山</td>\n",
       "    </tr>\n",
       "  </tbody>\n",
       "</table>\n",
       "</div>"
      ],
      "text/plain": [
       "   index         careate_time  category  \\\n",
       "0      8  2017-11-29 14:18:43  question   \n",
       "1     23  2017-11-28 11:23:46  question   \n",
       "\n",
       "                                             content  \\\n",
       "0                             富邦nhr1有包含住院前後門診費用嗎  謝謝   \n",
       "1  目前規劃雙實支-其中一家是用全球<br />\\r\\n全球：LDC(C型) -20年/1萬+X...   \n",
       "\n",
       "                                 link nickname  \\\n",
       "0  https://my83.com.tw/question/12138            \n",
       "1  https://my83.com.tw/question/12108       fy   \n",
       "\n",
       "                               tag_name                   title  \n",
       "0                      小家庭,其他,實支實付醫療,理賠  富邦nhr1有包含住院前後門診費用嗎  謝謝  \n",
       "1  小資族,保險類型,實支實付醫療,醫療險,意外險,癌症險,重大疾病險,定期       MY83精選搭配-富邦.國泰.南山  "
      ]
     },
     "execution_count": 140,
     "metadata": {},
     "output_type": "execute_result"
    }
   ],
   "source": [
    "with sqlite3.connect('my83.sqlite') as db:\n",
    "    df2 = pandas.read_sql_query('select * from questions where content like \"%富邦%\" ', con = db)\n",
    "df2"
   ]
  },
  {
   "cell_type": "markdown",
   "metadata": {},
   "source": [
    "## 整理回答"
   ]
  },
  {
   "cell_type": "code",
   "execution_count": 158,
   "metadata": {
    "collapsed": true
   },
   "outputs": [],
   "source": [
    "import requests\n",
    "import pandas\n",
    "import re\n",
    "import json\n",
    "import pandas\n",
    "from bs4 import BeautifulSoup\n",
    "\n",
    "def parseQuestion(res):\n",
    "    m = re.search('question: (.*)',res.text)\n",
    "\n",
    "    jd = json.loads(m.group(1).rstrip(','))\n",
    "\n",
    "    #questions\n",
    "    questions = {}\n",
    "    questions['content']      = jd['content']\n",
    "    questions['careate_time'] = jd['created_time']\n",
    "    questions['nickname']     = jd['nickname']\n",
    "    questions['tag_name']     = ','.join([tag['tag_name'] for tag in jd['tag']])\n",
    "    questions['title']        = jd['title']\n",
    "    questions['category']     = jd['category']\n",
    "    questions['link']         = link\n",
    "    return questions\n",
    "    \n",
    "\n",
    "def parseAnswer(res):\n",
    "    #answers\n",
    "    soup = BeautifulSoup(res.text, 'lxml')\n",
    "    answer_ary = []\n",
    "    for answer in soup.select('#answerList .item'):\n",
    "        if answer.select_one('.consultation'):\n",
    "            author   = answer.select('.consultation')[0].text\n",
    "            content  = answer.select('.answer-content')[0].text\n",
    "            identity = answer.select('.col-sm-8 .list-group-item-text')[1].text\n",
    "            date     = answer.select('.date')[0].text\n",
    "            answer_ary.append({'author' : author,\\\n",
    "                              'content' : content,\\\n",
    "                              'identity': identity,\\\n",
    "                              'link'    : res.url,\n",
    "                              'date'    : date})\n",
    "    return answer_ary\n",
    "    \n",
    "def getQuestionsAndAnswers(link):\n",
    "    res      = requests.get(link)\n",
    "    question = parseQuestion(res)\n",
    "    answer   = parseAnswer(res)\n",
    "    return {'question':question, 'answer':answer}"
   ]
  },
  {
   "cell_type": "code",
   "execution_count": 159,
   "metadata": {
    "collapsed": false
   },
   "outputs": [],
   "source": [
    "#getQuestionsAndAnswers('https://my83.com.tw/question/12013')"
   ]
  },
  {
   "cell_type": "code",
   "execution_count": 160,
   "metadata": {
    "collapsed": false
   },
   "outputs": [
    {
     "name": "stdout",
     "output_type": "stream",
     "text": [
      "1\n"
     ]
    }
   ],
   "source": [
    "import requests\n",
    "from bs4 import BeautifulSoup\n",
    "question_url = 'https://my83.com.tw/question/index?page={}'\n",
    "domain = 'https://my83.com.tw'\n",
    "\n",
    "question_list = []\n",
    "answer_list   = []\n",
    "for page in range(1,2):\n",
    "    print(page)\n",
    "    res = requests.get(question_url.format(page))\n",
    "    soup = BeautifulSoup(res.text, 'lxml')\n",
    "\n",
    "    for section in soup.select('#questionList section'):\n",
    "        link = domain + section.select('a')[0]['href']\n",
    "        qa   = getQuestionsAndAnswers(link)\n",
    "        question_list.append(qa['question'])\n",
    "        answer_list.extend(qa['answer'])"
   ]
  },
  {
   "cell_type": "code",
   "execution_count": 161,
   "metadata": {
    "collapsed": false
   },
   "outputs": [],
   "source": [
    "question_df = pandas.DataFrame(question_list)\n",
    "\n",
    "with sqlite3.connect('my83.sqlite') as db:\n",
    "    question_df.to_sql('questions', con = db, if_exists='replace' )"
   ]
  },
  {
   "cell_type": "code",
   "execution_count": 162,
   "metadata": {
    "collapsed": true
   },
   "outputs": [],
   "source": [
    "answer_df = pandas.DataFrame(answer_list)\n",
    "\n",
    "with sqlite3.connect('my83.sqlite') as db:\n",
    "    answer_df.to_sql('answers', con = db, if_exists='replace' )"
   ]
  },
  {
   "cell_type": "code",
   "execution_count": 164,
   "metadata": {
    "collapsed": false
   },
   "outputs": [
    {
     "data": {
      "text/html": [
       "<div>\n",
       "<table border=\"1\" class=\"dataframe\">\n",
       "  <thead>\n",
       "    <tr style=\"text-align: right;\">\n",
       "      <th></th>\n",
       "      <th>index</th>\n",
       "      <th>author</th>\n",
       "      <th>content</th>\n",
       "      <th>date</th>\n",
       "      <th>identity</th>\n",
       "      <th>link</th>\n",
       "      <th>index</th>\n",
       "      <th>careate_time</th>\n",
       "      <th>category</th>\n",
       "      <th>content</th>\n",
       "      <th>link</th>\n",
       "      <th>nickname</th>\n",
       "      <th>tag_name</th>\n",
       "      <th>title</th>\n",
       "    </tr>\n",
       "  </thead>\n",
       "  <tbody>\n",
       "    <tr>\n",
       "      <th>0</th>\n",
       "      <td>0</td>\n",
       "      <td>阿佑</td>\n",
       "      <td>您好，依您的需求，業務員這樣設計保單是很常見的。\\n因為投保內容多為終身險，因此，保費高出許...</td>\n",
       "      <td>2017-11-29 22:37:51</td>\n",
       "      <td>保險業務員 @ 高雄市</td>\n",
       "      <td>https://my83.com.tw/question/12149</td>\n",
       "      <td>0</td>\n",
       "      <td>2017-11-29 21:46:05</td>\n",
       "      <td>policy</td>\n",
       "      <td>&lt;div class=\"image-grid\"&gt;&lt;a href=\"/upload/quest...</td>\n",
       "      <td>https://my83.com.tw/question/12149</td>\n",
       "      <td>Birdy</td>\n",
       "      <td>小資族,實支實付醫療,醫療險,癌症險,重大疾病險</td>\n",
       "      <td>27 歲女第一張保單醫療險請益</td>\n",
       "    </tr>\n",
       "    <tr>\n",
       "      <th>1</th>\n",
       "      <td>1</td>\n",
       "      <td>Korver</td>\n",
       "      <td>您好\\n針對NDLR的部分，項目是有點少，建議都會選擇可以賠重大傷病的部分，像是遠雄、台灣、...</td>\n",
       "      <td>2017-11-29 21:57:32</td>\n",
       "      <td>保險業務員 @ 台北市</td>\n",
       "      <td>https://my83.com.tw/question/12149</td>\n",
       "      <td>0</td>\n",
       "      <td>2017-11-29 21:46:05</td>\n",
       "      <td>policy</td>\n",
       "      <td>&lt;div class=\"image-grid\"&gt;&lt;a href=\"/upload/quest...</td>\n",
       "      <td>https://my83.com.tw/question/12149</td>\n",
       "      <td>Birdy</td>\n",
       "      <td>小資族,實支實付醫療,醫療險,癌症險,重大疾病險</td>\n",
       "      <td>27 歲女第一張保單醫療險請益</td>\n",
       "    </tr>\n",
       "    <tr>\n",
       "      <th>2</th>\n",
       "      <td>2</td>\n",
       "      <td>維尼</td>\n",
       "      <td>你好\\n這保單的保費全規劃在最不重要的保障上\\n光主約就佔了兩萬的保費預算\\n全心守護只有住...</td>\n",
       "      <td>2017-11-29 22:44:40</td>\n",
       "      <td>保險業務員 @ 桃園市</td>\n",
       "      <td>https://my83.com.tw/question/12149</td>\n",
       "      <td>0</td>\n",
       "      <td>2017-11-29 21:46:05</td>\n",
       "      <td>policy</td>\n",
       "      <td>&lt;div class=\"image-grid\"&gt;&lt;a href=\"/upload/quest...</td>\n",
       "      <td>https://my83.com.tw/question/12149</td>\n",
       "      <td>Birdy</td>\n",
       "      <td>小資族,實支實付醫療,醫療險,癌症險,重大疾病險</td>\n",
       "      <td>27 歲女第一張保單醫療險請益</td>\n",
       "    </tr>\n",
       "    <tr>\n",
       "      <th>3</th>\n",
       "      <td>3</td>\n",
       "      <td>Messi</td>\n",
       "      <td>20PCHI 全心守護醫療保險 20年期 1單位\\n還本型，身故給付總繳保費，扣除已領取各項...</td>\n",
       "      <td>2017-11-30 00:33:07</td>\n",
       "      <td>保險業務員 @ 新竹市</td>\n",
       "      <td>https://my83.com.tw/question/12149</td>\n",
       "      <td>0</td>\n",
       "      <td>2017-11-29 21:46:05</td>\n",
       "      <td>policy</td>\n",
       "      <td>&lt;div class=\"image-grid\"&gt;&lt;a href=\"/upload/quest...</td>\n",
       "      <td>https://my83.com.tw/question/12149</td>\n",
       "      <td>Birdy</td>\n",
       "      <td>小資族,實支實付醫療,醫療險,癌症險,重大疾病險</td>\n",
       "      <td>27 歲女第一張保單醫療險請益</td>\n",
       "    </tr>\n",
       "    <tr>\n",
       "      <th>4</th>\n",
       "      <td>4</td>\n",
       "      <td>保險經紀人Roger</td>\n",
       "      <td>主約終身醫療\\n理賠日額跟手術定額\\n在目前住院時間短高自費項目的趨勢下\\n多數時候是拿自己...</td>\n",
       "      <td>2017-11-30 10:15:27</td>\n",
       "      <td>保險業務員 @ 新北市</td>\n",
       "      <td>https://my83.com.tw/question/12149</td>\n",
       "      <td>0</td>\n",
       "      <td>2017-11-29 21:46:05</td>\n",
       "      <td>policy</td>\n",
       "      <td>&lt;div class=\"image-grid\"&gt;&lt;a href=\"/upload/quest...</td>\n",
       "      <td>https://my83.com.tw/question/12149</td>\n",
       "      <td>Birdy</td>\n",
       "      <td>小資族,實支實付醫療,醫療險,癌症險,重大疾病險</td>\n",
       "      <td>27 歲女第一張保單醫療險請益</td>\n",
       "    </tr>\n",
       "  </tbody>\n",
       "</table>\n",
       "</div>"
      ],
      "text/plain": [
       "   index       author                                            content  \\\n",
       "0      0          阿佑   您好，依您的需求，業務員這樣設計保單是很常見的。\\n因為投保內容多為終身險，因此，保費高出許...   \n",
       "1      1      Korver   您好\\n針對NDLR的部分，項目是有點少，建議都會選擇可以賠重大傷病的部分，像是遠雄、台灣、...   \n",
       "2      2          維尼   你好\\n這保單的保費全規劃在最不重要的保障上\\n光主約就佔了兩萬的保費預算\\n全心守護只有住...   \n",
       "3      3       Messi   20PCHI 全心守護醫療保險 20年期 1單位\\n還本型，身故給付總繳保費，扣除已領取各項...   \n",
       "4      4  保險經紀人Roger   主約終身醫療\\n理賠日額跟手術定額\\n在目前住院時間短高自費項目的趨勢下\\n多數時候是拿自己...   \n",
       "\n",
       "                  date     identity                                link  \\\n",
       "0  2017-11-29 22:37:51  保險業務員 @ 高雄市  https://my83.com.tw/question/12149   \n",
       "1  2017-11-29 21:57:32  保險業務員 @ 台北市  https://my83.com.tw/question/12149   \n",
       "2  2017-11-29 22:44:40  保險業務員 @ 桃園市  https://my83.com.tw/question/12149   \n",
       "3  2017-11-30 00:33:07  保險業務員 @ 新竹市  https://my83.com.tw/question/12149   \n",
       "4  2017-11-30 10:15:27  保險業務員 @ 新北市  https://my83.com.tw/question/12149   \n",
       "\n",
       "   index         careate_time category  \\\n",
       "0      0  2017-11-29 21:46:05   policy   \n",
       "1      0  2017-11-29 21:46:05   policy   \n",
       "2      0  2017-11-29 21:46:05   policy   \n",
       "3      0  2017-11-29 21:46:05   policy   \n",
       "4      0  2017-11-29 21:46:05   policy   \n",
       "\n",
       "                                             content  \\\n",
       "0  <div class=\"image-grid\"><a href=\"/upload/quest...   \n",
       "1  <div class=\"image-grid\"><a href=\"/upload/quest...   \n",
       "2  <div class=\"image-grid\"><a href=\"/upload/quest...   \n",
       "3  <div class=\"image-grid\"><a href=\"/upload/quest...   \n",
       "4  <div class=\"image-grid\"><a href=\"/upload/quest...   \n",
       "\n",
       "                                 link nickname                  tag_name  \\\n",
       "0  https://my83.com.tw/question/12149    Birdy  小資族,實支實付醫療,醫療險,癌症險,重大疾病險   \n",
       "1  https://my83.com.tw/question/12149    Birdy  小資族,實支實付醫療,醫療險,癌症險,重大疾病險   \n",
       "2  https://my83.com.tw/question/12149    Birdy  小資族,實支實付醫療,醫療險,癌症險,重大疾病險   \n",
       "3  https://my83.com.tw/question/12149    Birdy  小資族,實支實付醫療,醫療險,癌症險,重大疾病險   \n",
       "4  https://my83.com.tw/question/12149    Birdy  小資族,實支實付醫療,醫療險,癌症險,重大疾病險   \n",
       "\n",
       "             title  \n",
       "0  27 歲女第一張保單醫療險請益  \n",
       "1  27 歲女第一張保單醫療險請益  \n",
       "2  27 歲女第一張保單醫療險請益  \n",
       "3  27 歲女第一張保單醫療險請益  \n",
       "4  27 歲女第一張保單醫療險請益  "
      ]
     },
     "execution_count": 164,
     "metadata": {},
     "output_type": "execute_result"
    }
   ],
   "source": [
    "with sqlite3.connect('my83.sqlite') as db:\n",
    "    df2 = pandas.read_sql_query('select * from answers, questions where answers.link = questions.link', con = db)\n",
    "df2.head()"
   ]
  },
  {
   "cell_type": "markdown",
   "metadata": {},
   "source": [
    "## List Operation"
   ]
  },
  {
   "cell_type": "code",
   "execution_count": 144,
   "metadata": {
    "collapsed": false
   },
   "outputs": [
    {
     "data": {
      "text/plain": [
       "[1, 2]"
      ]
     },
     "execution_count": 144,
     "metadata": {},
     "output_type": "execute_result"
    }
   ],
   "source": [
    "a = []\n",
    "a.append(1)\n",
    "a.append(2)\n",
    "a"
   ]
  },
  {
   "cell_type": "code",
   "execution_count": 145,
   "metadata": {
    "collapsed": false
   },
   "outputs": [
    {
     "data": {
      "text/plain": [
       "[1, 2, [3, 4]]"
      ]
     },
     "execution_count": 145,
     "metadata": {},
     "output_type": "execute_result"
    }
   ],
   "source": [
    "a.append([3,4])\n",
    "a"
   ]
  },
  {
   "cell_type": "code",
   "execution_count": 146,
   "metadata": {
    "collapsed": true
   },
   "outputs": [],
   "source": [
    "a.extend([3,4])"
   ]
  },
  {
   "cell_type": "code",
   "execution_count": 147,
   "metadata": {
    "collapsed": false
   },
   "outputs": [
    {
     "data": {
      "text/plain": [
       "[1, 2, [3, 4], 3, 4]"
      ]
     },
     "execution_count": 147,
     "metadata": {},
     "output_type": "execute_result"
    }
   ],
   "source": [
    "a"
   ]
  },
  {
   "cell_type": "markdown",
   "metadata": {},
   "source": [
    "## 抓取PTT 的資料"
   ]
  },
  {
   "cell_type": "code",
   "execution_count": 166,
   "metadata": {
    "collapsed": false
   },
   "outputs": [],
   "source": [
    "import requests\n",
    "from bs4 import BeautifulSoup\n",
    "res = requests.get('https://www.ptt.cc/bbs/Insurance/index.html')\n",
    "soup = BeautifulSoup(res.text, 'html.parser')"
   ]
  },
  {
   "cell_type": "code",
   "execution_count": 178,
   "metadata": {
    "collapsed": false
   },
   "outputs": [],
   "source": [
    "ptt_ary = []\n",
    "for ent in soup.select('.r-ent'):\n",
    "    ptt_dic = {}\n",
    "    ptt_dic['title']  = ent.select('.title')[0].text.strip()\n",
    "    ptt_dic['author'] = ent.select('.author')[0].text.strip()\n",
    "    ptt_dic['date']   = ent.select('.date')[0].text.strip()\n",
    "    ptt_dic['nrec']   = ent.select('.nrec')[0].text.strip()\n",
    "    ptt_ary.append(ptt_dic)\n",
    "    #print('==========================================')"
   ]
  },
  {
   "cell_type": "code",
   "execution_count": 180,
   "metadata": {
    "collapsed": false
   },
   "outputs": [
    {
     "data": {
      "text/html": [
       "<div>\n",
       "<table border=\"1\" class=\"dataframe\">\n",
       "  <thead>\n",
       "    <tr style=\"text-align: right;\">\n",
       "      <th></th>\n",
       "      <th>author</th>\n",
       "      <th>date</th>\n",
       "      <th>nrec</th>\n",
       "      <th>title</th>\n",
       "    </tr>\n",
       "  </thead>\n",
       "  <tbody>\n",
       "    <tr>\n",
       "      <th>0</th>\n",
       "      <td>bs422</td>\n",
       "      <td>11/29</td>\n",
       "      <td>2</td>\n",
       "      <td>新車車險比較</td>\n",
       "    </tr>\n",
       "    <tr>\n",
       "      <th>1</th>\n",
       "      <td>seasonyu</td>\n",
       "      <td>11/29</td>\n",
       "      <td>2</td>\n",
       "      <td>[討論] 電銷 康健人壽 新術術順心手術醫療險</td>\n",
       "    </tr>\n",
       "    <tr>\n",
       "      <th>2</th>\n",
       "      <td>hihappy</td>\n",
       "      <td>11/29</td>\n",
       "      <td>1</td>\n",
       "      <td>[其他] 南山美寶外幣終身分紅 受益人問題</td>\n",
       "    </tr>\n",
       "    <tr>\n",
       "      <th>3</th>\n",
       "      <td>you8888</td>\n",
       "      <td>11/29</td>\n",
       "      <td>2</td>\n",
       "      <td>[其他] 旅平險網路投保可用郵局金融visa卡付款?</td>\n",
       "    </tr>\n",
       "    <tr>\n",
       "      <th>4</th>\n",
       "      <td>b90402</td>\n",
       "      <td>11/29</td>\n",
       "      <td></td>\n",
       "      <td>[險種] 29歲男 現有保單健檢</td>\n",
       "    </tr>\n",
       "    <tr>\n",
       "      <th>5</th>\n",
       "      <td>ipg4128</td>\n",
       "      <td>11/29</td>\n",
       "      <td>2</td>\n",
       "      <td>[核保] 兩年內復效，體檢問題</td>\n",
       "    </tr>\n",
       "    <tr>\n",
       "      <th>6</th>\n",
       "      <td>wing008021</td>\n",
       "      <td>11/29</td>\n",
       "      <td>1</td>\n",
       "      <td>[險種]0歲男寶保險規劃請益/中國</td>\n",
       "    </tr>\n",
       "    <tr>\n",
       "      <th>7</th>\n",
       "      <td>easy0807</td>\n",
       "      <td>11/29</td>\n",
       "      <td>1</td>\n",
       "      <td>[其他] 台灣人壽寶來美美元利率變動型增額</td>\n",
       "    </tr>\n",
       "    <tr>\n",
       "      <th>8</th>\n",
       "      <td>wwwweee</td>\n",
       "      <td>11/29</td>\n",
       "      <td>1</td>\n",
       "      <td>[險種] 55歲女 汽車保險檢視</td>\n",
       "    </tr>\n",
       "    <tr>\n",
       "      <th>9</th>\n",
       "      <td>hzrca</td>\n",
       "      <td>11/29</td>\n",
       "      <td>2</td>\n",
       "      <td>[討論] 0歲女保 雙實支規劃</td>\n",
       "    </tr>\n",
       "    <tr>\n",
       "      <th>10</th>\n",
       "      <td>vivibubbles</td>\n",
       "      <td>11/29</td>\n",
       "      <td>1</td>\n",
       "      <td>[討論] 31歲女 台壽保單討論</td>\n",
       "    </tr>\n",
       "    <tr>\n",
       "      <th>11</th>\n",
       "      <td>h40907</td>\n",
       "      <td>11/30</td>\n",
       "      <td>6</td>\n",
       "      <td>[討論] 請問 電銷台壽福鑫200殘扶險</td>\n",
       "    </tr>\n",
       "    <tr>\n",
       "      <th>12</th>\n",
       "      <td>Mephist</td>\n",
       "      <td>11/30</td>\n",
       "      <td>2</td>\n",
       "      <td>Re: [其他] 台灣人壽寶來美美元利率變動型增額</td>\n",
       "    </tr>\n",
       "    <tr>\n",
       "      <th>13</th>\n",
       "      <td>petershiao</td>\n",
       "      <td>11/30</td>\n",
       "      <td></td>\n",
       "      <td>[討論] 0歲 女嬰 保險規劃問題</td>\n",
       "    </tr>\n",
       "    <tr>\n",
       "      <th>14</th>\n",
       "      <td>wangseja</td>\n",
       "      <td>4/27</td>\n",
       "      <td>17</td>\n",
       "      <td>[公告] 保險板公益(含推薦書與作功課技巧文章)</td>\n",
       "    </tr>\n",
       "    <tr>\n",
       "      <th>15</th>\n",
       "      <td>ecologi</td>\n",
       "      <td>2/26</td>\n",
       "      <td>9</td>\n",
       "      <td>Re: [新聞] 蝶戀花「兄妹」理賠引議 政大教授：保險</td>\n",
       "    </tr>\n",
       "    <tr>\n",
       "      <th>16</th>\n",
       "      <td>Daniel</td>\n",
       "      <td>3/12</td>\n",
       "      <td>1</td>\n",
       "      <td>[資訊] 人身保險簡易圖</td>\n",
       "    </tr>\n",
       "    <tr>\n",
       "      <th>17</th>\n",
       "      <td>Daniel</td>\n",
       "      <td>8/13</td>\n",
       "      <td>2</td>\n",
       "      <td>[公告] 保險板板規</td>\n",
       "    </tr>\n",
       "    <tr>\n",
       "      <th>18</th>\n",
       "      <td>wayn2008</td>\n",
       "      <td>9/29</td>\n",
       "      <td>16</td>\n",
       "      <td>[心得] 為什麼新生兒有罐頭保單</td>\n",
       "    </tr>\n",
       "  </tbody>\n",
       "</table>\n",
       "</div>"
      ],
      "text/plain": [
       "         author   date nrec                         title\n",
       "0         bs422  11/29    2                        新車車險比較\n",
       "1      seasonyu  11/29    2       [討論] 電銷 康健人壽 新術術順心手術醫療險\n",
       "2       hihappy  11/29    1         [其他] 南山美寶外幣終身分紅 受益人問題\n",
       "3       you8888  11/29    2    [其他] 旅平險網路投保可用郵局金融visa卡付款?\n",
       "4        b90402  11/29                   [險種] 29歲男 現有保單健檢\n",
       "5       ipg4128  11/29    2               [核保] 兩年內復效，體檢問題\n",
       "6    wing008021  11/29    1             [險種]0歲男寶保險規劃請益/中國\n",
       "7      easy0807  11/29    1         [其他] 台灣人壽寶來美美元利率變動型增額\n",
       "8       wwwweee  11/29    1              [險種] 55歲女 汽車保險檢視\n",
       "9         hzrca  11/29    2               [討論] 0歲女保 雙實支規劃\n",
       "10  vivibubbles  11/29    1              [討論] 31歲女 台壽保單討論\n",
       "11       h40907  11/30    6          [討論] 請問 電銷台壽福鑫200殘扶險\n",
       "12      Mephist  11/30    2     Re: [其他] 台灣人壽寶來美美元利率變動型增額\n",
       "13   petershiao  11/30                  [討論] 0歲 女嬰 保險規劃問題\n",
       "14     wangseja   4/27   17      [公告] 保險板公益(含推薦書與作功課技巧文章)\n",
       "15      ecologi   2/26    9  Re: [新聞] 蝶戀花「兄妹」理賠引議 政大教授：保險\n",
       "16       Daniel   3/12    1                  [資訊] 人身保險簡易圖\n",
       "17       Daniel   8/13    2                    [公告] 保險板板規\n",
       "18     wayn2008   9/29   16              [心得] 為什麼新生兒有罐頭保單"
      ]
     },
     "execution_count": 180,
     "metadata": {},
     "output_type": "execute_result"
    }
   ],
   "source": [
    "import pandas\n",
    "df = pandas.DataFrame(ptt_ary)\n",
    "df"
   ]
  },
  {
   "cell_type": "code",
   "execution_count": 183,
   "metadata": {
    "collapsed": true
   },
   "outputs": [],
   "source": [
    "import requests\n",
    "from bs4 import BeautifulSoup\n",
    "cookies = {\n",
    "  'over18': '1'  \n",
    "}\n",
    "res = requests.get('https://www.ptt.cc/bbs/Gossiping/index.html', cookies=cookies)\n",
    "soup = BeautifulSoup(res.text, 'html.parser')"
   ]
  },
  {
   "cell_type": "code",
   "execution_count": 185,
   "metadata": {
    "collapsed": false
   },
   "outputs": [],
   "source": [
    "ptt_ary = []\n",
    "for ent in soup.select('.r-ent'):\n",
    "    ptt_dic = {}\n",
    "    ptt_dic['title']  = ent.select('.title')[0].text.strip()\n",
    "    ptt_dic['author'] = ent.select('.author')[0].text.strip()\n",
    "    ptt_dic['date']   = ent.select('.date')[0].text.strip()\n",
    "    ptt_dic['nrec']   = ent.select('.nrec')[0].text.strip()\n",
    "    ptt_ary.append(ptt_dic)\n",
    "    #print('==========================================')"
   ]
  },
  {
   "cell_type": "code",
   "execution_count": 186,
   "metadata": {
    "collapsed": false
   },
   "outputs": [
    {
     "data": {
      "text/html": [
       "<div>\n",
       "<table border=\"1\" class=\"dataframe\">\n",
       "  <thead>\n",
       "    <tr style=\"text-align: right;\">\n",
       "      <th></th>\n",
       "      <th>author</th>\n",
       "      <th>date</th>\n",
       "      <th>nrec</th>\n",
       "      <th>title</th>\n",
       "    </tr>\n",
       "  </thead>\n",
       "  <tbody>\n",
       "    <tr>\n",
       "      <th>0</th>\n",
       "      <td>coolcoolder</td>\n",
       "      <td>11/30</td>\n",
       "      <td></td>\n",
       "      <td>Re: [問卦] 一例一休可能把資進黨拖垮，為何要硬幹？</td>\n",
       "    </tr>\n",
       "    <tr>\n",
       "      <th>1</th>\n",
       "      <td>ashia5287</td>\n",
       "      <td>11/30</td>\n",
       "      <td></td>\n",
       "      <td>Re: [新聞] 全台空汙危機 教授po二張圖：典型的境內</td>\n",
       "    </tr>\n",
       "    <tr>\n",
       "      <th>2</th>\n",
       "      <td>rockon15</td>\n",
       "      <td>11/30</td>\n",
       "      <td></td>\n",
       "      <td>Re: [新聞] 童過馬路遭輾！倒母懷中說「媽媽好痛」</td>\n",
       "    </tr>\n",
       "    <tr>\n",
       "      <th>3</th>\n",
       "      <td>bodhisattva</td>\n",
       "      <td>11/30</td>\n",
       "      <td></td>\n",
       "      <td>[爆卦] 中研院研究：法院是有錢人開的!？</td>\n",
       "    </tr>\n",
       "    <tr>\n",
       "      <th>4</th>\n",
       "      <td>ffreakk</td>\n",
       "      <td>11/30</td>\n",
       "      <td>2</td>\n",
       "      <td>[新聞] 天天躺床上滑手機　壯男癱瘓大小便失禁</td>\n",
       "    </tr>\n",
       "    <tr>\n",
       "      <th>5</th>\n",
       "      <td>andy02</td>\n",
       "      <td>11/30</td>\n",
       "      <td></td>\n",
       "      <td>Re: [新聞] 霸病床欠費破800萬！北榮逼出院無效…富</td>\n",
       "    </tr>\n",
       "    <tr>\n",
       "      <th>6</th>\n",
       "      <td>Kay731</td>\n",
       "      <td>11/11</td>\n",
       "      <td></td>\n",
       "      <td>[公告] 八卦板板規(2017.11.11)</td>\n",
       "    </tr>\n",
       "    <tr>\n",
       "      <th>7</th>\n",
       "      <td>bzxbzxbzxbzx</td>\n",
       "      <td>11/10</td>\n",
       "      <td>74</td>\n",
       "      <td>[協尋] 11/8 高雄市苓雅區三多一路往鳳山前路口</td>\n",
       "    </tr>\n",
       "    <tr>\n",
       "      <th>8</th>\n",
       "      <td>yeongdah</td>\n",
       "      <td>11/21</td>\n",
       "      <td>38</td>\n",
       "      <td>[協尋] 11/18 台北市忠孝東路六段玉成街口車禍行車記錄器</td>\n",
       "    </tr>\n",
       "    <tr>\n",
       "      <th>9</th>\n",
       "      <td>EJwing</td>\n",
       "      <td>11/25</td>\n",
       "      <td>爆</td>\n",
       "      <td>[尋人] 朋友的鄰居的女兒</td>\n",
       "    </tr>\n",
       "    <tr>\n",
       "      <th>10</th>\n",
       "      <td>Kay731</td>\n",
       "      <td>11/04</td>\n",
       "      <td>61</td>\n",
       "      <td>[公告] 11月份八卦板置底閒聊區</td>\n",
       "    </tr>\n",
       "  </tbody>\n",
       "</table>\n",
       "</div>"
      ],
      "text/plain": [
       "          author   date nrec                            title\n",
       "0    coolcoolder  11/30          Re: [問卦] 一例一休可能把資進黨拖垮，為何要硬幹？\n",
       "1      ashia5287  11/30         Re: [新聞] 全台空汙危機 教授po二張圖：典型的境內\n",
       "2       rockon15  11/30           Re: [新聞] 童過馬路遭輾！倒母懷中說「媽媽好痛」\n",
       "3    bodhisattva  11/30                 [爆卦] 中研院研究：法院是有錢人開的!？\n",
       "4        ffreakk  11/30    2          [新聞] 天天躺床上滑手機　壯男癱瘓大小便失禁\n",
       "5         andy02  11/30         Re: [新聞] 霸病床欠費破800萬！北榮逼出院無效…富\n",
       "6         Kay731  11/11                [公告] 八卦板板規(2017.11.11)\n",
       "7   bzxbzxbzxbzx  11/10   74       [協尋] 11/8 高雄市苓雅區三多一路往鳳山前路口\n",
       "8       yeongdah  11/21   38  [協尋] 11/18 台北市忠孝東路六段玉成街口車禍行車記錄器\n",
       "9         EJwing  11/25    爆                    [尋人] 朋友的鄰居的女兒\n",
       "10        Kay731  11/04   61                [公告] 11月份八卦板置底閒聊區"
      ]
     },
     "execution_count": 186,
     "metadata": {},
     "output_type": "execute_result"
    }
   ],
   "source": [
    "import pandas\n",
    "df = pandas.DataFrame(ptt_ary)\n",
    "df"
   ]
  },
  {
   "cell_type": "markdown",
   "metadata": {},
   "source": [
    "## 抓取卡提諾"
   ]
  },
  {
   "cell_type": "code",
   "execution_count": 194,
   "metadata": {
    "collapsed": false
   },
   "outputs": [],
   "source": [
    "import requests\n",
    "headers = {\n",
    "    'user-agent':'Mozilla/5.0 (Windows NT 6.1; Win64; x64) AppleWebKit/537.36 (KHTML, like Gecko) Chrome/62.0.3202.94 Safari/537.36'\n",
    "}\n",
    "res = requests.get('https://ck101.com/', headers = headers)\n",
    "#res.text"
   ]
  },
  {
   "cell_type": "markdown",
   "metadata": {},
   "source": [
    "## 抓取永慶房屋"
   ]
  },
  {
   "cell_type": "code",
   "execution_count": 199,
   "metadata": {
    "collapsed": false
   },
   "outputs": [],
   "source": [
    "import requests\n",
    "headers = {\n",
    "    'user-agent':'Mozilla/5.0 (Windows NT 6.1; Win64; x64) AppleWebKit/537.36 (KHTML, like Gecko) Chrome/62.0.3202.94 Safari/537.36'\n",
    "}\n",
    "res = requests.get('https://buy.yungching.com.tw/region', headers = headers)\n",
    "#res.text"
   ]
  },
  {
   "cell_type": "markdown",
   "metadata": {},
   "source": [
    "## 登入財報狗"
   ]
  },
  {
   "cell_type": "code",
   "execution_count": 213,
   "metadata": {
    "collapsed": false
   },
   "outputs": [],
   "source": [
    "from selenium import webdriver\n",
    "driver = webdriver.Chrome()\n",
    "driver.get('https://statementdog.com/users/sign_in')"
   ]
  },
  {
   "cell_type": "code",
   "execution_count": 214,
   "metadata": {
    "collapsed": true
   },
   "outputs": [],
   "source": [
    "driver.find_element_by_css_selector('#user_email').send_keys('kaikouu@gmx.com')\n",
    "driver.find_element_by_css_selector('#user_password').send_keys('1qazXSW')\n"
   ]
  },
  {
   "cell_type": "code",
   "execution_count": 215,
   "metadata": {
    "collapsed": false
   },
   "outputs": [],
   "source": [
    "driver.find_element_by_css_selector('.submit-btn').click()"
   ]
  },
  {
   "cell_type": "code",
   "execution_count": 218,
   "metadata": {
    "collapsed": false
   },
   "outputs": [],
   "source": [
    "cookie = ';'.join(['{}={}'.format(cookie['name'], cookie['value']) for cookie in driver.get_cookies()])"
   ]
  },
  {
   "cell_type": "code",
   "execution_count": 223,
   "metadata": {
    "collapsed": false
   },
   "outputs": [
    {
     "data": {
      "text/html": [
       "<div>\n",
       "<table border=\"1\" class=\"dataframe\">\n",
       "  <thead>\n",
       "    <tr style=\"text-align: right;\">\n",
       "      <th></th>\n",
       "      <th>collected</th>\n",
       "      <th>comments</th>\n",
       "      <th>comments_count</th>\n",
       "      <th>comments_pagination</th>\n",
       "      <th>content</th>\n",
       "      <th>created_at</th>\n",
       "      <th>created_or_replied_at</th>\n",
       "      <th>id</th>\n",
       "      <th>liked</th>\n",
       "      <th>likers_count</th>\n",
       "      <th>related_stocks</th>\n",
       "      <th>source_url</th>\n",
       "      <th>title</th>\n",
       "      <th>total_comments_count</th>\n",
       "      <th>type</th>\n",
       "    </tr>\n",
       "  </thead>\n",
       "  <tbody>\n",
       "    <tr>\n",
       "      <th>0</th>\n",
       "      <td>False</td>\n",
       "      <td>[]</td>\n",
       "      <td>0</td>\n",
       "      <td>{'has_more_comments': False, 'next_url': None}</td>\n",
       "      <td>【時報記者沈培華台北報導】繼先前美系外資將台積電 (2330) 評等降至中立後，一家亞系外資...</td>\n",
       "      <td>2017-11-30T12:27:33+08:00</td>\n",
       "      <td>2017-11-30T12:27:33+08:00</td>\n",
       "      <td>2552420</td>\n",
       "      <td>False</td>\n",
       "      <td>0</td>\n",
       "      <td>[{'id': 323, 'ticker': '2330', 'name': '台積電'}]</td>\n",
       "      <td>https://tw.stock.yahoo.com/news_content/name/%...</td>\n",
       "      <td>《半導體》製程升級競爭加劇，亞系外資重申台積電「中立」評等</td>\n",
       "      <td>0</td>\n",
       "      <td>news</td>\n",
       "    </tr>\n",
       "    <tr>\n",
       "      <th>1</th>\n",
       "      <td>False</td>\n",
       "      <td>[]</td>\n",
       "      <td>0</td>\n",
       "      <td>{'has_more_comments': False, 'next_url': None}</td>\n",
       "      <td>（中央社記者張建中新竹2017年11月30日電）美國費城半導體指數慘跌4.39%，台積電美國...</td>\n",
       "      <td>2017-11-30T10:43:13+08:00</td>\n",
       "      <td>2017-11-30T10:43:13+08:00</td>\n",
       "      <td>2552425</td>\n",
       "      <td>False</td>\n",
       "      <td>0</td>\n",
       "      <td>[{'id': 323, 'ticker': '2330', 'name': '台積電'}]</td>\n",
       "      <td>https://tw.stock.yahoo.com/news_content/name/%...</td>\n",
       "      <td>費半慘跌4.4% 台積電不支市值跌破6兆</td>\n",
       "      <td>0</td>\n",
       "      <td>news</td>\n",
       "    </tr>\n",
       "    <tr>\n",
       "      <th>2</th>\n",
       "      <td>False</td>\n",
       "      <td>[]</td>\n",
       "      <td>0</td>\n",
       "      <td>{'has_more_comments': False, 'next_url': None}</td>\n",
       "      <td>【財訊快報／劉居全報導】亞系外資在最新出爐的報告中表示，半導體製程升級對獲利率造成影響，恐衝...</td>\n",
       "      <td>2017-11-30T09:56:45+08:00</td>\n",
       "      <td>2017-11-30T09:56:45+08:00</td>\n",
       "      <td>2552426</td>\n",
       "      <td>False</td>\n",
       "      <td>0</td>\n",
       "      <td>[{'id': 323, 'ticker': '2330', 'name': '台積電'}]</td>\n",
       "      <td>https://tw.stock.yahoo.com/news_content/name/%...</td>\n",
       "      <td>外資觀點：亞系外資稱台積電成長有隱憂，重申「中立」評等，目標價215元</td>\n",
       "      <td>0</td>\n",
       "      <td>news</td>\n",
       "    </tr>\n",
       "    <tr>\n",
       "      <th>3</th>\n",
       "      <td>False</td>\n",
       "      <td>[]</td>\n",
       "      <td>0</td>\n",
       "      <td>{'has_more_comments': False, 'next_url': None}</td>\n",
       "      <td>MoneyDJ新聞 2017-11-30 09:52:36 記者 陳苓 報導 晶圓代工之戰，...</td>\n",
       "      <td>2017-11-30T09:52:36+08:00</td>\n",
       "      <td>2017-11-30T09:52:36+08:00</td>\n",
       "      <td>2552430</td>\n",
       "      <td>False</td>\n",
       "      <td>0</td>\n",
       "      <td>[{'id': 323, 'ticker': '2330', 'name': '台積電'}]</td>\n",
       "      <td>https://tw.stock.yahoo.com/news_content/name/4...</td>\n",
       "      <td>4奈米大戰，三星較吃香？搶先用EUV、擁抱GAAFET</td>\n",
       "      <td>0</td>\n",
       "      <td>news</td>\n",
       "    </tr>\n",
       "    <tr>\n",
       "      <th>4</th>\n",
       "      <td>False</td>\n",
       "      <td>[]</td>\n",
       "      <td>0</td>\n",
       "      <td>{'has_more_comments': False, 'next_url': None}</td>\n",
       "      <td>（中央社記者吳家豪台北2017年11月30日電）亞系外資出具研究報告表示，半導體製程升級對獲...</td>\n",
       "      <td>2017-11-30T09:42:12+08:00</td>\n",
       "      <td>2017-11-30T09:42:12+08:00</td>\n",
       "      <td>2552433</td>\n",
       "      <td>False</td>\n",
       "      <td>0</td>\n",
       "      <td>[{'id': 323, 'ticker': '2330', 'name': '台積電'}]</td>\n",
       "      <td>https://tw.stock.yahoo.com/news_content/name/%...</td>\n",
       "      <td>外資：台積電成長有隱憂 目標價215元</td>\n",
       "      <td>0</td>\n",
       "      <td>news</td>\n",
       "    </tr>\n",
       "  </tbody>\n",
       "</table>\n",
       "</div>"
      ],
      "text/plain": [
       "  collected comments  comments_count  \\\n",
       "0     False       []               0   \n",
       "1     False       []               0   \n",
       "2     False       []               0   \n",
       "3     False       []               0   \n",
       "4     False       []               0   \n",
       "\n",
       "                              comments_pagination  \\\n",
       "0  {'has_more_comments': False, 'next_url': None}   \n",
       "1  {'has_more_comments': False, 'next_url': None}   \n",
       "2  {'has_more_comments': False, 'next_url': None}   \n",
       "3  {'has_more_comments': False, 'next_url': None}   \n",
       "4  {'has_more_comments': False, 'next_url': None}   \n",
       "\n",
       "                                             content  \\\n",
       "0  【時報記者沈培華台北報導】繼先前美系外資將台積電 (2330) 評等降至中立後，一家亞系外資...   \n",
       "1  （中央社記者張建中新竹2017年11月30日電）美國費城半導體指數慘跌4.39%，台積電美國...   \n",
       "2  【財訊快報／劉居全報導】亞系外資在最新出爐的報告中表示，半導體製程升級對獲利率造成影響，恐衝...   \n",
       "3  MoneyDJ新聞 2017-11-30 09:52:36 記者 陳苓 報導 晶圓代工之戰，...   \n",
       "4  （中央社記者吳家豪台北2017年11月30日電）亞系外資出具研究報告表示，半導體製程升級對獲...   \n",
       "\n",
       "                  created_at      created_or_replied_at       id  liked  \\\n",
       "0  2017-11-30T12:27:33+08:00  2017-11-30T12:27:33+08:00  2552420  False   \n",
       "1  2017-11-30T10:43:13+08:00  2017-11-30T10:43:13+08:00  2552425  False   \n",
       "2  2017-11-30T09:56:45+08:00  2017-11-30T09:56:45+08:00  2552426  False   \n",
       "3  2017-11-30T09:52:36+08:00  2017-11-30T09:52:36+08:00  2552430  False   \n",
       "4  2017-11-30T09:42:12+08:00  2017-11-30T09:42:12+08:00  2552433  False   \n",
       "\n",
       "   likers_count                                  related_stocks  \\\n",
       "0             0  [{'id': 323, 'ticker': '2330', 'name': '台積電'}]   \n",
       "1             0  [{'id': 323, 'ticker': '2330', 'name': '台積電'}]   \n",
       "2             0  [{'id': 323, 'ticker': '2330', 'name': '台積電'}]   \n",
       "3             0  [{'id': 323, 'ticker': '2330', 'name': '台積電'}]   \n",
       "4             0  [{'id': 323, 'ticker': '2330', 'name': '台積電'}]   \n",
       "\n",
       "                                          source_url  \\\n",
       "0  https://tw.stock.yahoo.com/news_content/name/%...   \n",
       "1  https://tw.stock.yahoo.com/news_content/name/%...   \n",
       "2  https://tw.stock.yahoo.com/news_content/name/%...   \n",
       "3  https://tw.stock.yahoo.com/news_content/name/4...   \n",
       "4  https://tw.stock.yahoo.com/news_content/name/%...   \n",
       "\n",
       "                                 title  total_comments_count  type  \n",
       "0        《半導體》製程升級競爭加劇，亞系外資重申台積電「中立」評等                     0  news  \n",
       "1                 費半慘跌4.4% 台積電不支市值跌破6兆                     0  news  \n",
       "2  外資觀點：亞系外資稱台積電成長有隱憂，重申「中立」評等，目標價215元                     0  news  \n",
       "3          4奈米大戰，三星較吃香？搶先用EUV、擁抱GAAFET                     0  news  \n",
       "4                  外資：台積電成長有隱憂 目標價215元                     0  news  "
      ]
     },
     "execution_count": 223,
     "metadata": {},
     "output_type": "execute_result"
    }
   ],
   "source": [
    "\n",
    "import requests\n",
    "headers = {\n",
    " 'Cookie' : cookie      \n",
    "}\n",
    "res = requests.get('https://statementdog.com/api/v1/feeds', headers = headers)\n",
    "\n",
    "import pandas\n",
    "df = pandas.DataFrame(res.json()['items'])\n",
    "df.head()"
   ]
  },
  {
   "cell_type": "code",
   "execution_count": null,
   "metadata": {
    "collapsed": true
   },
   "outputs": [],
   "source": []
  }
 ],
 "metadata": {
  "kernelspec": {
   "display_name": "Python 3",
   "language": "python",
   "name": "python3"
  },
  "language_info": {
   "codemirror_mode": {
    "name": "ipython",
    "version": 3
   },
   "file_extension": ".py",
   "mimetype": "text/x-python",
   "name": "python",
   "nbconvert_exporter": "python",
   "pygments_lexer": "ipython3",
   "version": "3.6.0"
  }
 },
 "nbformat": 4,
 "nbformat_minor": 2
}
